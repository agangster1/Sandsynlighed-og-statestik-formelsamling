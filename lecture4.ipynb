{
 "cells": [
  {
   "attachments": {},
   "cell_type": "markdown",
   "metadata": {},
   "source": [
    "Special probability distribution\n",
    "\n",
    "    - Discrete distributions\n",
    "        Bernoulli, binomial, geometric and Poisson"
   ]
  },
  {
   "attachments": {},
   "cell_type": "markdown",
   "metadata": {},
   "source": [
    "The mean value is sometimes called the first moment of X.\n",
    "The n'th moment of X is defined by:\n",
    "The expected value of X to the power of n using the probability mass function (PMF):\n",
    "$$E[X^n] = \\sum_i x_i^n \\cdot p(x_i)$$\n",
    "The expected value of X to the power of n using the probability density function (PDF):\n",
    "$$E[X^n] = \\int_{-\\infty}^{\\infty} x^n \\cdot f(x) \\, dx$$"
   ]
  },
  {
   "attachments": {},
   "cell_type": "markdown",
   "metadata": {},
   "source": [
    "**Bernoulli r.v.**\n",
    "An experiment with 2 possible outcomes (success or failure) is called a Bernoulli trial.\n",
    "The indicator of event A is called the Bernoulli r.v. since it describes outcome of a Bernoulli trial.\n",
    "$$E[I]=p$$\n",
    "$$Var(I)=p(1-p)$$\n",
    "\n",
    "Every Bernoulli trial, regardless of the definition of A, is equivalent to the tossing of a biased coin. \n",
    "\n",
    "Example: a r.v. I is an indicator of the event A\n",
    "The expected value of the indicator of an event is equal to the probability event:\n",
    "$$I = \\begin{cases} 1 & \\text{if A occurs} \\\\ 0 & \\text{if A does not occur} \\end{cases}$$\n",
    "\n",
    "$$E[I]=1*P(A)+0*P(A^c)=P(A)$$\n",
    "\n",
    "$$Var(I) = E[I^2]-E[I]^2 = E[I]-E[I]^2 = E[I]*(1-E[I])=P(A)P(A^c)$$\n"
   ]
  },
  {
   "cell_type": "code",
   "execution_count": 1,
   "metadata": {},
   "outputs": [
    {
     "name": "stdout",
     "output_type": "stream",
     "text": [
      "Expected Value: 0.6\n",
      "Variance: 0.24\n"
     ]
    }
   ],
   "source": [
    "def bernoulli_expected_value(p):\n",
    "    # Calculate the expected value of a Bernoulli random variable\n",
    "    return p\n",
    "\n",
    "def bernoulli_variance(p):\n",
    "    # Calculate the variance of a Bernoulli random variable\n",
    "    return p * (1 - p)\n",
    "\n",
    "# Example usage\n",
    "p = 0.6  # Probability of success (event A)\n",
    "\n",
    "expected_value = bernoulli_expected_value(p)\n",
    "variance = bernoulli_variance(p)\n",
    "\n",
    "print(\"Expected Value:\", expected_value)\n",
    "print(\"Variance:\", variance)"
   ]
  },
  {
   "attachments": {},
   "cell_type": "markdown",
   "metadata": {},
   "source": [
    "Binomial r.v.\n",
    "    - Let X be a r.v. representing the number of times a certain event A occurs in n trials (number of success in n trials). Denote p probability of success. \n",
    "    - Then X is said to be a binomial r.v. with parameters n and p\n",
    "\n",
    "$$X \\sim \\text{Binomial}(n, p)$$\n",
    "\n",
    "Pmf:\n",
    "$$P(X = i) = \\binom{n}{i} p^i (1 - p)^{n-i}, \\quad i = 0, 1, \\ldots, n$$\n",
    "\n",
    "$$E[X]=np$$ \n",
    "$$Var(X)=np(1-p)$$\n"
   ]
  },
  {
   "attachments": {},
   "cell_type": "markdown",
   "metadata": {},
   "source": [
    "**Binomial r.v.: mean and variance\n",
    "$$X=I_1+I_2+..+I_n$$\n",
    "Where $$I_i$$ is a bernoulli r.v.\n",
    "$$E[X]=E[I_1+I_2+..+I_n]=E[I_1]+E[I_2]+...+E[I_n] = p+p+...+p = n * p$$\n",
    "\n",
    "$$Var(X)=Var(I_1+I_2+..+I_n)=np(1-p)$$\n",
    "\n",
    "**Computing the binomial distribution function**  \n",
    "To optimize the computational process, we can utilize the following relationship between \n",
    "$$P{X=k+1} and P{X=k}:$$\n",
    "\n",
    "$$P(X = k+1) = \\frac{p}{1-p} \\cdot \\frac{n-k}{k+1} \\cdot P(X = k)$$\n",
    "Now starting from P(X=0) we can recursively find all other P(X=k)"
   ]
  },
  {
   "cell_type": "code",
   "execution_count": 2,
   "metadata": {},
   "outputs": [
    {
     "name": "stdout",
     "output_type": "stream",
     "text": [
      "For p = 0.1, the 3-component system is more likely to operate.\n",
      "For p = 0.2, the 3-component system is more likely to operate.\n",
      "For p = 0.3, the 3-component system is more likely to operate.\n",
      "For p = 0.4, the 3-component system is more likely to operate.\n",
      "For p = 0.5, the 3-component system is more likely to operate.\n",
      "For p = 0.6, the 5-component system is more likely to operate.\n",
      "For p = 0.7, the 5-component system is more likely to operate.\n",
      "For p = 0.8, the 5-component system is more likely to operate.\n",
      "For p = 0.9, the 5-component system is more likely to operate.\n"
     ]
    }
   ],
   "source": [
    "#A system consists of n components. Each component functions independently with probability p. \n",
    "#Question: for which values of p is a 5-component system more likely to operate than a 3-component system? \n",
    "import math\n",
    "\n",
    "def system_3_component(p):\n",
    "    # Calculate the probability of a 3-component system operating\n",
    "    q = 1 - p\n",
    "    probability = math.comb(3, 2) * (p ** 2) * (q ** 1) + (p ** 3)\n",
    "    return probability\n",
    "\n",
    "\n",
    "def system_5_component(p):\n",
    "    # Calculate the probability of a 5-component system operating\n",
    "    q = 1 - p\n",
    "    probability = math.comb(5, 3) * (p ** 3) * (q ** 2) + math.comb(5, 4) * (p ** 4) * (q ** 1) + (p ** 5)\n",
    "    return probability\n",
    "\n",
    "# Iterate over different values of p\n",
    "for p in [0.1, 0.2, 0.3, 0.4, 0.5, 0.6, 0.7, 0.8, 0.9]:\n",
    "    probability_3_component = system_3_component(p)\n",
    "    probability_5_component = system_5_component(p)\n",
    "    \n",
    "    # Compare the probabilities and print the result\n",
    "    if probability_5_component > probability_3_component:\n",
    "        print(f\"For p = {p}, the 5-component system is more likely to operate.\")\n",
    "    else:\n",
    "        print(f\"For p = {p}, the 3-component system is more likely to operate.\")\n"
   ]
  },
  {
   "attachments": {},
   "cell_type": "markdown",
   "metadata": {},
   "source": [
    "**The geometric r.v.**  \n",
    "Let a r.v. M be a number of independent Bernoulli trials until the first occurence of a success. M is called a geometric r.v. \n",
    "Pmf:\n",
    "$$P{M=k}=(1-p)^{k-1}p$$\n",
    "\n",
    "$$E[M]=\\frac{1}{p}$$\n",
    "$$Var(M)=\\frac{1-p}{p^2}$$\n",
    "Example: applications where we are interested in the time that elapses between the occurence of events in a sequence of independent experiments\n",
    "\n"
   ]
  },
  {
   "attachments": {},
   "cell_type": "markdown",
   "metadata": {},
   "source": [
    "**The Hypergeometric r.v.**  \n",
    "Suppose we have objects of two types: type 1 N objects (acceptable components) and type 2 M objects (defective components). A sample of n objects is randomly chosen without replacement. \n",
    "A r.v. X represents a number of type 1 objects in the selection  hypergeometric with parameters (N, M, n)\n",
    "Pmf:\n",
    "$$P(X = i) = \\frac{{\\binom{N}{i} \\binom{M}{n-i}}}{{\\binom{N+M}{n}}}$$\n",
    "$$E[X]=\\frac{nN}{N+M}$$\n",
    "$$Var(X)=np(1-p)[1-\\frac{n-1}{N?M-1}]$$\n",
    "\n"
   ]
  },
  {
   "attachments": {},
   "cell_type": "markdown",
   "metadata": {},
   "source": [
    "Du er nået til slide 28 :) "
   ]
  }
 ],
 "metadata": {
  "kernelspec": {
   "display_name": "Python 3",
   "language": "python",
   "name": "python3"
  },
  "language_info": {
   "codemirror_mode": {
    "name": "ipython",
    "version": 3
   },
   "file_extension": ".py",
   "mimetype": "text/x-python",
   "name": "python",
   "nbconvert_exporter": "python",
   "pygments_lexer": "ipython3",
   "version": "3.10.11"
  }
 },
 "nbformat": 4,
 "nbformat_minor": 0
}
