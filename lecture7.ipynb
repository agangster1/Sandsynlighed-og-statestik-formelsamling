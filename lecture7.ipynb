{
 "cells": [
  {
   "attachments": {},
   "cell_type": "markdown",
   "metadata": {},
   "source": [
    "A confidence interval is a range of values that is likely to contain the true population parameter with a certain level of confidence. In the case of the population mean, the equation you mentioned allows us to estimate the sample mean $(\\hat{µ})$ based on the observed data.\n",
    "\n",
    "$$\\hat{µ} = \\frac{1}{n} \\sum \\limits _ {i=1} ^{n} X_{i} ~ N (µ, \\frac{σ^2}{n})$$\n",
    "\n",
    "$\\hat{µ}$: This represents the estimate of the population mean µ. The hat symbol (\\hat{}) is often used to denote an estimate.\n",
    "\n",
    "X_i: These are the individual observations or values in the sample. The subscript \"i\" indicates the i-th observation.\n",
    "\n",
    "n: This represents the size of the sample, or the number of observations.\n",
    "\n",
    "$N(µ, σ^2/n)$: This represents the distribution of the sample mean. The sample mean is assumed to follow a normal distribution with mean µ and variance σ^2/n.\n",
    "\n",
    "The equation also provides information about the distribution of the sample mean. It states that the sample mean follows a normal distribution with mean µ and variance σ^2/n. The variance of the sample mean decreases as the sample size increases, reflecting a more precise estimation of the population mean."
   ]
  },
  {
   "attachments": {},
   "cell_type": "markdown",
   "metadata": {},
   "source": [
    "The confidence interval is found as:\n",
    "\n",
    "$$\\hat{µ} ± Z_{value} * (\\frac {σ}{n})$$\n",
    "\n",
    "\\hat{µ}: This represents the sample mean, which is an estimate of the population mean.\n",
    "\n",
    "Z-value: This is the critical value from the standard normal distribution corresponding to the desired confidence level. It determines the width of the confidence interval.\n",
    "\n",
    "σ: This is the population standard deviation, which is assumed to be known.\n",
    "\n",
    "n: This represents the sample size, i.e., the number of observations in the sample.\n",
    "\n",
    "This equation is applicable in situations where you have a known population standard deviation and want to estimate the population mean based on a sample. It is commonly used in statistical inference and hypothesis testing to make conclusions about the population mean using sample data."
   ]
  },
  {
   "cell_type": "code",
   "execution_count": 1,
   "metadata": {},
   "outputs": [
    {
     "name": "stdout",
     "output_type": "stream",
     "text": [
      "Confidence Interval (95.0%): (3.156371956784613, 4.083628043215388)\n"
     ]
    }
   ],
   "source": [
    "import scipy.stats as stats\n",
    "import math\n",
    "\n",
    "# To estimate the population mean µ, you calculate the sample mean by taking the sum of all observations and dividing it by the sample size:\n",
    "\n",
    "def calculate_confidence_interval(data, confidence_level):\n",
    "    n = len(data)  # Sample size\n",
    "    sample_mean = sum(data) / n  # Sample mean\n",
    "\n",
    "    # Standard deviation of the sample\n",
    "    sample_std = math.sqrt(sum([(x - sample_mean) ** 2 for x in data]) / (n - 1))\n",
    "\n",
    "    # Z-value corresponding to the desired confidence level\n",
    "    z_value = stats.norm.ppf(1 - (1 - confidence_level) / 2)\n",
    "\n",
    "    # Margin of error\n",
    "    margin_of_error = z_value * (sample_std / math.sqrt(n))\n",
    "\n",
    "    # Confidence interval bounds\n",
    "    lower_bound = sample_mean - margin_of_error\n",
    "    upper_bound = sample_mean + margin_of_error\n",
    "\n",
    "    return (lower_bound, upper_bound)\n",
    "\n",
    "# Example usage\n",
    "data = [2.5, 3.7, 4.1, 2.8, 3.9, 4.5, 3.3, 4.8, 3.7, 2.9]\n",
    "confidence_level = 0.95\n",
    "\n",
    "lower, upper = calculate_confidence_interval(data, confidence_level)\n",
    "\n",
    "# This equation computes the average of the observed values in the sample. It provides an estimate of the population mean based on the available data.\n",
    "\n",
    "print(f\"Confidence Interval ({confidence_level * 100}%): ({lower}, {upper})\")\n"
   ]
  },
  {
   "attachments": {},
   "cell_type": "markdown",
   "metadata": {},
   "source": []
  }
 ],
 "metadata": {
  "kernelspec": {
   "display_name": "Python 3",
   "language": "python",
   "name": "python3"
  },
  "language_info": {
   "codemirror_mode": {
    "name": "ipython",
    "version": 3
   },
   "file_extension": ".py",
   "mimetype": "text/x-python",
   "name": "python",
   "nbconvert_exporter": "python",
   "pygments_lexer": "ipython3",
   "version": "3.11.3"
  },
  "orig_nbformat": 4
 },
 "nbformat": 4,
 "nbformat_minor": 2
}
