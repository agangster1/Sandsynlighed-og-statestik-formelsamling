{
 "cells": [
  {
   "attachments": {},
   "cell_type": "markdown",
   "metadata": {},
   "source": [
    "when all events are equally likely to happen:\n",
    "$\\newline$\n",
    "$P(A)=\\frac{|A|}{|S|}$\n",
    "\n"
   ]
  },
  {
   "cell_type": "code",
   "execution_count": 2,
   "metadata": {},
   "outputs": [
    {
     "name": "stdout",
     "output_type": "stream",
     "text": [
      "0.3333333333333333\n"
     ]
    }
   ],
   "source": [
    "A = [1,2] # success events\n",
    "S = [1,2,3,4,5,6] # Sample space\n",
    "propA = len(A)/len(S)\n",
    "print(propA)\n"
   ]
  },
  {
   "attachments": {},
   "cell_type": "markdown",
   "metadata": {},
   "source": [
    "For any event E, the probability P(E) is non-negative:\n",
    "$$ P(E) \\geq 0 $$\n",
    "\n",
    "For any two disjoint events E and F, the probability of their union is the sum of their individual probabilities:\n",
    "$$ P(E \\cup F) = P(E) + P(F) $$\n"
   ]
  },
  {
   "attachments": {},
   "cell_type": "markdown",
   "metadata": {},
   "source": [
    "Sampling with or without replacement:\n",
    "$Possibilities = n^k$"
   ]
  },
  {
   "cell_type": "code",
   "execution_count": null,
   "metadata": {},
   "outputs": [],
   "source": [
    "# we want to draw k samples from n values\n",
    "n = 6 \n",
    "k = 6 \n",
    "Possibilities = n ** k\n",
    "print(Possibilities)"
   ]
  },
  {
   "attachments": {},
   "cell_type": "markdown",
   "metadata": {},
   "source": [
    "Sampling without Replacement and with Ordering: \n",
    "$$Possibilities = \\frac{n!}{(n - k)!}$$"
   ]
  },
  {
   "cell_type": "code",
   "execution_count": null,
   "metadata": {},
   "outputs": [],
   "source": [
    "import math\n",
    "# we want to draw k samples from n values\n",
    "n = 6 \n",
    "k = 6 \n",
    "Possibilities = math.factorial(n) / math.factorial(n - k)\n",
    "print(Possibilities)"
   ]
  },
  {
   "attachments": {},
   "cell_type": "markdown",
   "metadata": {},
   "source": [
    "Sampling without Replacement and without Ordering:\n",
    "$$Possibilities = (n choose k) = \\frac{n!}{(n-k)!*k!}$$"
   ]
  },
  {
   "cell_type": "code",
   "execution_count": null,
   "metadata": {
    "pycharm": {
     "name": "#%%\n"
    }
   },
   "outputs": [],
   "source": [
    "import math\n",
    "# we want to draw k samples from n values\n",
    "n = 6 \n",
    "k = 6 \n",
    "Possibilities = math.factorial(n) / math.factorial(k) * (math.factorial(n - k))\n",
    "print(Possibilities)"
   ]
  },
  {
   "attachments": {},
   "cell_type": "markdown",
   "metadata": {},
   "source": [
    "Sampling with replacement and without ordering:\n",
    "$$Possibilities = \\frac{(n + k - 1)!}{k! * (n - 1)!}$$\n"
   ]
  },
  {
   "cell_type": "code",
   "execution_count": null,
   "metadata": {},
   "outputs": [],
   "source": [
    "import math\n",
    "# we want to draw k samples from n values\n",
    "n = 6 \n",
    "k = 6 \n",
    "Possibilities = math.factorial(n + k - 1) / (math.factorial(k) * (math.factorial(n - 1)))\n",
    "print(Possibilities)"
   ]
  },
  {
   "attachments": {},
   "cell_type": "markdown",
   "metadata": {},
   "source": [
    "Bayes formula:\n",
    "\n",
    "$$P(A | B) = \\frac{P(B | A) \\cdot P(A)}{P(B)}$$\n"
   ]
  },
  {
   "cell_type": "code",
<<<<<<< HEAD:Counting_and_basics.ipynb
   "execution_count": 4,
   "metadata": {},
=======
   "execution_count": 7,
   "metadata": {
    "pycharm": {
     "name": "#%%\n"
    }
   },
>>>>>>> e5091ec9d3a808dbf3089eeed89dbdd2477c7300:mm_1-2Counting_and_basics.ipynb
   "outputs": [
    {
     "name": "stdout",
     "output_type": "stream",
     "text": [
<<<<<<< HEAD:Counting_and_basics.ipynb
      "Posterior Probability: [0.63157895 0.36842105]\n"
=======
      "Probability of A sent given A is received: 0.411764705882353\n",
      "Probability of B sent given A is received: 0.588235294117647\n",
      "\n",
      "\n",
      "Probability of B sent given B is received: 0.5882352941176471\n",
      "Probability of A sent given B is received: 0.4117647058823529\n",
      "Probability that A is received: 0.4857142857142857\n",
      "Probability that B is received: 0.4857142857142857\n"
>>>>>>> e5091ec9d3a808dbf3089eeed89dbdd2477c7300:mm_1-2Counting_and_basics.ipynb
     ]
    }
   ],
   "source": [
<<<<<<< HEAD:Counting_and_basics.ipynb
    "import numpy as np\n",
    "\n",
    "def bayes_formula(prior_prob, likelihood, evidence):\n",
    "    # Convert lists to numpy arrays for element-wise multiplication\n",
    "    prior_prob = np.array(prior_prob)\n",
    "    likelihood = np.array(likelihood)\n",
    "    \n",
    "    # Calculate the probability using Bayes' formula\n",
    "    numerator = likelihood * prior_prob\n",
    "    denominator = np.sum(likelihood * prior_prob)\n",
    "    posterior_prob = numerator / denominator\n",
    "    return posterior_prob\n",
=======
    "def bayes_formula(prob_a_sent, prob_b_sent, prob_a_sent_fail, prob_b_sent_fail):\n",
    "    # Calculate the probability of A given evidence\n",
    "    prob_a_given_received = (prob_a_sent * (1 - prob_a_sent_fail)) / (\n",
    "                (prob_a_sent * (1 - prob_a_sent_fail)) + (prob_b_sent * prob_b_sent_fail))\n",
    "    return prob_a_given_received\n",
>>>>>>> e5091ec9d3a808dbf3089eeed89dbdd2477c7300:mm_1-2Counting_and_basics.ipynb
    "\n",
    "\n",
    "# Inputs\n",
    "prob_a_sent = 12/30\n",
    "prob_b_sent = 20/35\n",
    "prob_a_sent_fail = 1 / 2\n",
    "prob_b_sent_fail = 1 / 2\n",
    "\n",
    "# Calculate probability using Bayes' formula\n",
    "result_a = bayes_formula(prob_a_sent, prob_b_sent, prob_a_sent_fail, prob_b_sent_fail)\n",
    "# Calculate probability using Bayes' formula\n",
    "result_b = bayes_formula(prob_b_sent, prob_a_sent, prob_b_sent_fail, prob_a_sent_fail)\n",
    "\n",
    "# Calculate the probability that A is received\n",
    "prob_a_received = (1-prob_a_sent_fail)*prob_a_sent+prob_b_sent_fail*prob_b_sent\n",
    "\n",
    "# Calculate the probability that A is received\n",
    "prob_b_received = (1-prob_b_sent_fail)*prob_b_sent+prob_a_sent_fail*prob_a_sent\n",
    "\n",
    "# Print the result\n",
    "print(\"Probability of A sent given A is received:\", result_a)\n",
    "print(\"Probability of B sent given A is received:\", 1 - result_a)\n",
    "\n",
    "print(\"\\n\")\n",
    "\n",
    "print(\"Probability of B sent given B is received:\", result_b)\n",
    "print(\"Probability of A sent given B is received:\", 1 - result_b)\n",
    "\n",
    "# Print the probability that A is received\n",
    "print(\"Probability that A is received:\", prob_a_received)\n",
    "\n",
    "# Print the probability that B is received\n",
    "print(\"Probability that B is received:\", prob_b_received)\n"
   ]
  },
  {
   "attachments": {},
   "cell_type": "markdown",
   "metadata": {},
   "source": [
    "Cumulative Distribution function (CDF):\n",
    "$$F(a) = \\sum_{all x \\leq a} P(x)$$"
   ]
  },
  {
   "cell_type": "code",
   "execution_count": 38,
   "metadata": {},
   "outputs": [
    {
     "name": "stdout",
     "output_type": "stream",
     "text": [
      "CDF: [0.2, 0.5, 1.0] 0.5\n"
     ]
    },
    {
     "data": {
      "image/png": "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",
      "text/plain": [
       "<Figure size 640x480 with 1 Axes>"
      ]
     },
     "metadata": {},
     "output_type": "display_data"
    }
   ],
   "source": [
    "import matplotlib.pyplot as plt\n",
    "\n",
    "def cdf(a, probabilities):\n",
    "    # Calculate the cumulative distribution function (CDF)\n",
    "    cdf = 0\n",
    "    cdf_values = []  # List to store the CDF values\n",
    "    for x in (probabilities.keys()):\n",
    "        if x <= a:\n",
    "            cdf += probabilities[x]\n",
    "        cdf_values.append(cdf)\n",
    "    return cdf_values\n",
    "\n",
    "# Example usage\n",
    "probabilities = {1: 0.2, 2: 0.3, 3: 0.5}  # Dictionary of probabilities for each value\n",
    "\n",
    "a = 3  # Value of how much to calculate of the x axis\n",
    "\n",
    "cdf_values = cdf(a, probabilities)\n",
    "print(\"CDF:\", cdf_values, sum(probabilities[x] for x in probabilities if x < a))\n",
    "\n",
    "# Plotting the CDF\n",
    "x_values = sorted(probabilities.keys())\n",
    "plt.step(x_values, cdf_values, where='post')\n",
    "plt.xlabel('Values')\n",
    "plt.ylabel('CDF')\n",
    "plt.title('Cumulative Distribution Function')\n",
    "plt.ylim(0, 1)  # Set the y-axis limits to match the CDF range\n",
    "plt.xlim(0, a)  # Set the x-axis limits to match the CDF range\n",
    "plt.grid(True)\n",
    "plt.show()"
   ]
  },
  {
   "attachments": {},
   "cell_type": "markdown",
   "metadata": {},
   "source": [
    "Probability mass function (PMF) for discrete R.V:\n",
    "$$p(x) = P(X = x)$$\n"
   ]
  },
  {
   "cell_type": "code",
   "execution_count": 16,
   "metadata": {},
   "outputs": [
    {
     "name": "stdout",
     "output_type": "stream",
     "text": [
      "PMF: 0.3\n"
     ]
    }
   ],
   "source": [
    "def pmf(x, probabilities):\n",
    "    # Calculate the probability mass function (PMF) for a discrete random variable\n",
    "    if x in probabilities:\n",
    "        return probabilities[x]\n",
    "    else:\n",
    "        return 0\n",
    "\n",
    "# Example usage\n",
    "probabilities = {1: 0.2, 2: 0.3, 3: 0.5}  # Dictionary of probabilities for each value\n",
    "\n",
    "x = 2  # Value of how much to calculate of the x axis\n",
    "\n",
    "pmf_value = pmf(x, probabilities)\n",
    "print(\"PMF:\", pmf_value)\n",
    "\n"
   ]
  },
  {
   "attachments": {},
   "cell_type": "markdown",
   "metadata": {},
   "source": [
    "Probability density function (PDF) continuous r.v:\n",
    "$$P(a \\leq X < b) = \\int_{a}^{b} f(x) dx$$\n",
    "\n"
   ]
  },
  {
   "cell_type": "code",
   "execution_count": 23,
   "metadata": {},
   "outputs": [
    {
     "name": "stdout",
     "output_type": "stream",
     "text": [
      "PDF: 2.3333333333333335\n"
     ]
    }
   ],
   "source": [
    "import scipy.integrate as spi\n",
    "\n",
    "def pdf(a, b, pdf_function):\n",
    "    # Calculate the probability density function (PDF)\n",
    "    result, _ = spi.quad(pdf_function, a, b)\n",
    "    return result\n",
    "\n",
    "# Example usage\n",
    "def pdf_function(x):\n",
    "    # Define the probability density function (PDF)\n",
    "    # Replace with your own function or distribution\n",
    "    return x**2\n",
    "\n",
    "a = 1.0  # Lower bound\n",
    "b = 2.0  # Upper bound\n",
    "\n",
    "pdf_value = pdf(a, b, pdf_function)\n",
    "print(\"PDF:\", pdf_value)\n"
   ]
  },
  {
   "attachments": {},
   "cell_type": "markdown",
   "metadata": {},
   "source": [
    "Mixed type:\n",
    "$$F(x) = p_1 * F_1(x) + p_2 * F_2(x) + ... + p_n * F_n(x)$$\n"
   ]
  },
  {
   "cell_type": "code",
   "execution_count": null,
   "metadata": {},
   "outputs": [],
   "source": [
    "def cdf(x, probabilities, cdfs):\n",
    "    # Calculate the cumulative distribution function (CDF)\n",
    "    cdf = 0\n",
    "    for i in range(len(probabilities)):\n",
    "        cdf += probabilities[i] * cdfs[i](x)\n",
    "    return cdf\n",
    "\n",
    "# Example usage\n",
    "probabilities = [0.2, 0.3, 0.5]  # List of probabilities\n",
    "cdfs = [cdf1, cdf2, cdf3]  # List of CDF functions for each distribution\n",
    "\n",
    "x = 2.0  # Value at which to compute the CDF\n",
    "\n",
    "cdf_value = cdf(x, probabilities, cdfs)\n",
    "print(\"CDF:\", cdf_value)\n"
   ]
  },
  {
   "attachments": {},
   "cell_type": "markdown",
   "metadata": {},
   "source": [
    "Multiple r.v joint CDF:\n",
    "$$F(x, y) = P(X \\leq x, Y \\leq y)$$"
   ]
  },
  {
   "cell_type": "code",
   "execution_count": null,
   "metadata": {},
   "outputs": [],
   "source": [
    "def joint_cdf(x, y, probabilities):\n",
    "    # Calculate the joint cumulative distribution function (CDF) for two random variables\n",
    "    cdf = 0\n",
    "    for (x_val, y_val), prob in probabilities.items():\n",
    "        if x_val <= x and y_val <= y:\n",
    "            cdf += prob\n",
    "    return cdf\n",
    "\n",
    "# Example usage\n",
    "probabilities = { (1, 2): 0.1, (2, 3): 0.2, (3, 4): 0.3, (4, 5): 0.4 }  # Dictionary of probabilities for each (x, y) pair\n",
    "\n",
    "x = 3.5  # Value for the first random variable\n",
    "y = 4.2  # Value for the second random variable\n",
    "\n",
    "cdf_value = joint_cdf(x, y, probabilities)\n",
    "print(\"Joint CDF:\", cdf_value)"
   ]
  },
  {
   "attachments": {},
   "cell_type": "markdown",
   "metadata": {},
   "source": [
    "Joint distributed disrete r.vs. \n",
    "joint pmf:\n",
    "$$p(x_i, y_i) = P(X = x_i, Y = y_i)$$"
   ]
  },
  {
   "cell_type": "code",
   "execution_count": null,
   "metadata": {},
   "outputs": [],
   "source": [
    "def joint_pmf(x, y, probabilities):\n",
    "    # Calculate the joint probability mass function (PMF) for two random variables\n",
    "    if (x, y) in probabilities:\n",
    "        pmf = probabilities[(x, y)]\n",
    "    else:\n",
    "        pmf = 0\n",
    "    return pmf\n",
    "\n",
    "# Example usage\n",
    "probabilities = { (1, 2): 0.1, (2, 3): 0.2, (3, 4): 0.3, (4, 5): 0.4 }  # Dictionary of probabilities for each (x, y) pair\n",
    "\n",
    "x = 2  # Value for the first random variable\n",
    "y = 3  # Value for the second random variable\n",
    "\n",
    "pmf_value = joint_pmf(x, y, probabilities)\n",
    "print(\"Joint PMF:\", pmf_value)"
   ]
  },
  {
   "attachments": {},
   "cell_type": "markdown",
   "metadata": {},
   "source": [
    "Jointly distributed continous r.vs.\n",
    "$$P\\{(X, Y) \\in C\\} = \\int\\int_{(x, y) \\in C} f(x, y) \\, dx \\, dy$$"
   ]
  },
  {
   "cell_type": "code",
   "execution_count": null,
   "metadata": {},
   "outputs": [],
   "source": [
    "import scipy.integrate as spi\n",
    "\n",
    "def probability_in_region(region, joint_pdf_function):\n",
    "    # Calculate the probability of the event (X, Y) belonging to the given region\n",
    "    result, _ = spi.dblquad(joint_pdf_function, region[0], region[1], lambda x: region[2](x), lambda x: region[3](x))\n",
    "    return result\n",
    "\n",
    "# Example usage\n",
    "def joint_pdf_function(x, y):\n",
    "    # Define the joint probability density function (PDF) for (X, Y)\n",
    "    # Replace with your own function or distribution\n",
    "    return x * y\n",
    "\n",
    "region = [1, 2, lambda x: x, lambda x: 2 * x]  # Region defined as [x_min, x_max, y_min_function, y_max_function]\n",
    "\n",
    "probability = probability_in_region(region, joint_pdf_function)\n",
    "print(\"Probability:\", probability)"
   ]
  },
  {
   "attachments": {},
   "cell_type": "markdown",
   "metadata": {},
   "source": [
    "If you are talking about independent r.v.\n",
    "You can split the formels:\n",
    "CDF:\n",
    "$$F(A, B) = F_X(A) \\cdot F_Y(B)$$\n",
    "In terms of probability mass function (PMF) for discrete random variables (rv) and probability density function (PDF) for continuous random variables:\n",
    "$$p(x, y) = p_X(x) \\cdot p_Y(y)$$\n",
    "$$f(x, y) = f_X(x) \\cdot f_Y(y)$$\n",
    "Basically, X and Y are independent if knowing the value of one does not change the distribution of another.\n"
   ]
  },
  {
   "attachments": {},
   "cell_type": "markdown",
   "metadata": {},
   "source": [
    "The relationship between two random variables can often be clarified by consideration of the conditional distribution of one given the value of the other.\n",
    "\n",
    "The conditional probability mass function (PMF) of X given that Y=y is defined by:\n",
    "$$p_{X|Y}(x|y) = P(X=x|Y=y) = \\frac{P(X, Y)}{P_Y(y)}$$\n",
    "\n",
    "If X and Y have a joint probability density function (PDF), then the conditional probability density function (PDF) of X given that Y=y is defined as:\n",
    "$$f_{X|Y}(x|y) = \\frac{f(x, y)}{f_Y(y)}$$\n"
   ]
  }
 ],
 "metadata": {
  "kernelspec": {
   "display_name": "Python 3",
   "language": "python",
   "name": "python3"
  },
  "language_info": {
   "codemirror_mode": {
    "name": "ipython",
    "version": 3
   },
   "file_extension": ".py",
   "mimetype": "text/x-python",
   "name": "python",
   "nbconvert_exporter": "python",
   "pygments_lexer": "ipython3",
   "version": "3.10.11"
  },
  "orig_nbformat": 4
 },
 "nbformat": 4,
 "nbformat_minor": 2
}