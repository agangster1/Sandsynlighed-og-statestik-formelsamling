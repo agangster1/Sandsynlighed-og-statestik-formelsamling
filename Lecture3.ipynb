{
 "cells": [
  {
   "attachments": {},
   "cell_type": "markdown",
   "metadata": {},
   "source": [
    "E(X); the expectation represents the average value or mean of a random variable X\n",
    "$\\newline$\n",
    "It provides a measure of the central tendency of the variable's distribution.\n",
    "$\\newline$\n",
    "$$E[X] = \\sum \\limits _{i} x_i P(X = x_i) = \\sum \\limits _{i} x_i p(x_i)$$"
   ]
  },
  {
   "cell_type": "code",
   "execution_count": 1,
   "metadata": {},
   "outputs": [
    {
     "name": "stdout",
     "output_type": "stream",
     "text": [
      "E(X) = -0.5\n"
     ]
    }
   ],
   "source": [
    "import math\n",
    "\n",
    "x = [1, 2, 3, 4, 5, 6] #possible events\n",
    "p = [1/6, -1/6, 1/6, -1/6, 1/6, -1/6] #corresponding weighted probabilities set by the rules of the game (see slide 4 & 7 (mm3_updated.pdf))\n",
    "\n",
    "# Calculate E(X)\n",
    "expectation = sum(xi * pi for xi, pi in zip(x, p))\n",
    "\n",
    "# Print the result\n",
    "print(\"E(X) =\", expectation)"
   ]
  },
  {
   "attachments": {},
   "cell_type": "markdown",
   "metadata": {},
   "source": [
    "If X is a continuous random variable\n",
    "\n",
    "$$E[X] = \\int_{-∞}^∞ \\, x f(x)dx$$"
   ]
  },
  {
   "cell_type": "code",
   "execution_count": 24,
   "metadata": {},
   "outputs": [
    {
     "name": "stdout",
     "output_type": "stream",
     "text": [
      "E[X] = 0.0\n"
     ]
    }
   ],
   "source": [
    "import math\n",
    "from scipy.integrate import quad #pip install scipy\n",
    "\n",
    "def f(x): #whatever function is given in problem put here\n",
    "    if 0 <= x <= 1:\n",
    "        return x\n",
    "    elif -1 <= x < 0:\n",
    "        return -x\n",
    "    else:\n",
    "        return 0\n",
    "\n",
    "def integrand(x):\n",
    "    return x * f(x)\n",
    "\n",
    "# Define the integration limits\n",
    "lower_limit = float(-1) #whatever lowerlimit is given in problem put here\n",
    "upper_limit = float(1) #whatever upperlimit is given in problem put here\n",
    "\n",
    "# Perform the numerical integration\n",
    "expectation, error = quad(integrand, lower_limit, upper_limit)\n",
    "\n",
    "# Print the result\n",
    "print(\"E[X] =\", expectation)\n"
   ]
  }
 ],
 "metadata": {
  "kernelspec": {
   "display_name": "Python 3",
   "language": "python",
   "name": "python3"
  },
  "language_info": {
   "codemirror_mode": {
    "name": "ipython",
    "version": 3
   },
   "file_extension": ".py",
   "mimetype": "text/x-python",
   "name": "python",
   "nbconvert_exporter": "python",
   "pygments_lexer": "ipython3",
   "version": "3.11.3"
  },
  "orig_nbformat": 4
 },
 "nbformat": 4,
 "nbformat_minor": 2
}
