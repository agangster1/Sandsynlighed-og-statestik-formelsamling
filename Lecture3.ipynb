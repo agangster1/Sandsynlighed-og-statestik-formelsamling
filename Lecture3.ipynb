{
 "cells": [
  {
   "attachments": {},
   "cell_type": "markdown",
   "metadata": {},
   "source": [
    "E(X); the expectation represents the average value or mean of a random variable X\n",
    "$\\newline$\n",
    "It provides a measure of the central tendency of the variable's distribution.\n",
    "$\\newline$\n",
    "$$E[X] = \\sum \\limits _{i} x_i P(X = x_i) = \\sum \\limits _{i} x_i p(x_i)$$"
   ]
  },
  {
   "cell_type": "code",
   "execution_count": 1,
   "metadata": {},
   "outputs": [
    {
     "name": "stdout",
     "output_type": "stream",
     "text": [
      "E(X) = -0.5\n"
     ]
    }
   ],
   "source": [
    "import math\n",
    "\n",
    "x = [1, 2, 3, 4, 5, 6] #possible events\n",
    "p = [1/6, -1/6, 1/6, -1/6, 1/6, -1/6] #corresponding weighted probabilities set by the rules of the game (see slide 4 & 7 (mm3_updated.pdf))\n",
    "\n",
    "# Calculate E(X)\n",
    "expectation = sum(xi * pi for xi, pi in zip(x, p))\n",
    "\n",
    "# Print the result\n",
    "print(\"E(X) =\", expectation)"
   ]
  },
  {
   "attachments": {},
   "cell_type": "markdown",
   "metadata": {},
   "source": [
    "If X is a continuous random variable\n",
    "\n",
    "$$E[X] = \\int_{-∞}^∞ \\, x f(x)dx$$"
   ]
  },
  {
   "cell_type": "code",
   "execution_count": 24,
   "metadata": {},
   "outputs": [
    {
     "name": "stdout",
     "output_type": "stream",
     "text": [
      "E[X] = 0.0\n"
     ]
    }
   ],
   "source": [
    "import math\n",
    "from scipy.integrate import quad #pip install scipy\n",
    "\n",
    "def f(x): #whatever function is given in problem put here\n",
    "    if 0 <= x <= 1:\n",
    "        return x\n",
    "    elif -1 <= x < 0:\n",
    "        return -x\n",
    "    else:\n",
    "        return 0\n",
    "\n",
    "def integrand(x):\n",
    "    return x * f(x)\n",
    "\n",
    "# Define the integration limits\n",
    "lower_limit = float(-1) #whatever lowerlimit is given in problem put here\n",
    "upper_limit = float(1) #whatever upperlimit is given in problem put here\n",
    "\n",
    "# Perform the numerical integration\n",
    "expectation, error = quad(integrand, lower_limit, upper_limit)\n",
    "\n",
    "# Print the result\n",
    "print(\"E[X] =\", expectation)\n"
   ]
  },
  {
   "attachments": {},
   "cell_type": "markdown",
   "metadata": {},
   "source": [
    "Now we found the expected value of a function g(X), think of it as a new random variable Y=g(X)\n",
    "\n",
    "$$E[Y] = E[g(X)] = \\sum \\limits _{i} g(x_i) p(x_i)$$"
   ]
  },
  {
   "cell_type": "code",
   "execution_count": 34,
   "metadata": {},
   "outputs": [
    {
     "name": "stdout",
     "output_type": "stream",
     "text": [
      "E(X) = 2.5\n"
     ]
    }
   ],
   "source": [
    "x = [-2, -1, 1, 2] #possible events\n",
    "p = [1/len(x), 1/len(x), 1/len(x), 1/len(x)] #corresponding weighted probabilities\n",
    "\n",
    "def g(x): #function of the possible events\n",
    "    return x**2\n",
    "\n",
    "# Calculate E(X)\n",
    "expectation = sum(g(xi) * pi for xi, pi in zip(x, p))\n",
    "\n",
    "# Print the result\n",
    "print(\"E(X) =\", expectation)"
   ]
  },
  {
   "attachments": {},
   "cell_type": "markdown",
   "metadata": {},
   "source": [
    "Regneregler\n",
    "$\\newline$\n",
    "Always applies:\n",
    "$$E[X+Y] = E[X] + E[Y]$$\n",
    "$\\newline$\n",
    "Only applies if they are independent:\n",
    "$$E[X*Y] = E[X] * E[Y]$$\n",
    "\n",
    "\n",
    "\n"
   ]
  },
  {
   "attachments": {},
   "cell_type": "markdown",
   "metadata": {},
   "source": [
    "Variance\n",
    "$\\newline$\n",
    "Variance is a statistical measure that quantifies the spread or variability of a set of data points around their mean. \n",
    "$\\newline$\n",
    "It provides a measure of how much the individual data points deviate from the average.\n",
    "$$Var(X) = E[(X - E(x))^2] = E[X^2] - E[X]^2$$"
   ]
  },
  {
   "cell_type": "code",
   "execution_count": 35,
   "metadata": {},
   "outputs": [
    {
     "name": "stdout",
     "output_type": "stream",
     "text": [
      "Var(X) = 2.0\n"
     ]
    }
   ],
   "source": [
    "def calculate_variance(data):\n",
    "    # Calculate the number of data points\n",
    "    n = len(data)\n",
    "    \n",
    "    # Calculate the mean of the data points\n",
    "    mean = sum(data) / n\n",
    "    \n",
    "    # Calculate the variance using the formula (x - mean)^2\n",
    "    # Sum up the squared differences between each data point and the mean\n",
    "    variance = sum((x - mean) ** 2 for x in data) / n\n",
    "    \n",
    "    # Return the calculated variance\n",
    "    return variance\n",
    "\n",
    "# Example usage\n",
    "values = [1, 2, 3, 4, 5]\n",
    "result = calculate_variance(values)\n",
    "print(\"Var(X) =\", result)\n"
   ]
  },
  {
   "attachments": {},
   "cell_type": "markdown",
   "metadata": {},
   "source": [
    "Covariance\n",
    "$\\newline$\n",
    "It measures how changes in one variable correspond to changes in another variable\n",
    "$$Cov(X, Y) = E[(X - E[X])(Y - E[Y])]$$"
   ]
  },
  {
   "cell_type": "code",
   "execution_count": null,
   "metadata": {},
   "outputs": [],
   "source": [
    "def calculate_covariance(data_x, data_y):\n",
    "    # Calculate the number of data points\n",
    "    n = len(data_x)\n",
    "    \n",
    "    # Calculate the means of X and Y\n",
    "    mean_x = sum(data_x) / n\n",
    "    mean_y = sum(data_y) / n\n",
    "    \n",
    "    # Calculate the covariance using the formula (X - E(X))(Y - E(Y))\n",
    "    covariance = sum((data_x[i] - mean_x) * (data_y[i] - mean_y) for i in range(n)) / n\n",
    "    \n",
    "    # Return the calculated covariance\n",
    "    return covariance\n",
    "\n",
    "# Example usage\n",
    "x_values = [1, 2, 3, 4, 5]\n",
    "y_values = [2, 4, 6, 8, 10]\n",
    "result = calculate_covariance(x_values, y_values)\n",
    "print(\"Cov(X, Y) =\", result)\n"
   ]
  },
  {
   "attachments": {},
   "cell_type": "markdown",
   "metadata": {},
   "source": [
    "Some useful identities concerning variances:\n",
    "\n",
    "Calculate the variance of the linear transformation\n",
    "$$Var(aX + b) = a^2Var(X)$$"
   ]
  },
  {
   "cell_type": "code",
   "execution_count": 39,
   "metadata": {},
   "outputs": [
    {
     "name": "stdout",
     "output_type": "stream",
     "text": [
      "Var(aX + b) = 20\n"
     ]
    }
   ],
   "source": [
    "def variance_linear_transform(a, b, variance_X):\n",
    "    # Calculate the variance of the linear transformation\n",
    "    transformed_variance = (a ** 2) * variance_X\n",
    "    \n",
    "    # Return the transformed variance\n",
    "    return transformed_variance\n",
    "\n",
    "# Example usage\n",
    "a = 2\n",
    "b = 3\n",
    "variance_X = 5\n",
    "\n",
    "# Calculate the variance of the linear transformation\n",
    "result = variance_linear_transform(a, b, variance_X)\n",
    "print(\"Var(aX + b) =\", result)"
   ]
  },
  {
   "attachments": {},
   "cell_type": "markdown",
   "metadata": {},
   "source": [
    "Calculate the variance of the constant\n",
    "$$Var(b) = 0$$"
   ]
  },
  {
   "cell_type": "code",
   "execution_count": 37,
   "metadata": {},
   "outputs": [
    {
     "name": "stdout",
     "output_type": "stream",
     "text": [
      "Var(b) = 0\n"
     ]
    }
   ],
   "source": [
    "def variance_constant(b):\n",
    "    # Variance of a constant is always zero\n",
    "    constant_variance = 0\n",
    "    \n",
    "    # Return the variance of the constant\n",
    "    return constant_variance\n",
    "\n",
    "# Example usage\n",
    "b = 5\n",
    "\n",
    "# Calculate the variance of the constant\n",
    "result = variance_constant(b)\n",
    "print(\"Var(b) =\", result)"
   ]
  },
  {
   "attachments": {},
   "cell_type": "markdown",
   "metadata": {},
   "source": [
    "Calculate the variance of the shifted random variable\n",
    "$$Var(X + b) = Var(X)$$"
   ]
  },
  {
   "cell_type": "code",
   "execution_count": 38,
   "metadata": {},
   "outputs": [
    {
     "name": "stdout",
     "output_type": "stream",
     "text": [
      "Var(X + b) = 10\n"
     ]
    }
   ],
   "source": [
    "def variance_shift(X_variance):\n",
    "    # Variance remains the same when shifting a random variable by a constant\n",
    "    shifted_variance = X_variance\n",
    "    \n",
    "    # Return the shifted variance\n",
    "    return shifted_variance\n",
    "\n",
    "# Example usage\n",
    "X_variance = 10\n",
    "\n",
    "# Calculate the variance of the shifted random variable\n",
    "result = variance_shift(X_variance)\n",
    "print(\"Var(X + b) =\", result)"
   ]
  },
  {
   "attachments": {},
   "cell_type": "markdown",
   "metadata": {},
   "source": [
    "Instead of covariance, we can work with dimensionless quality:\n",
    "$\\newline$\n",
    "• Correlation coefficient of X and Y\n",
    "$\\newline$\n",
    "Correlation coefficient is a measure of the strength and direction of the linear relationship between two variables\n",
    "$$Corr(X, Y) = \\frac{Cov(X, Y)}{\\sqrt(Var(X))\\sqrt(Var(Y))}$$"
   ]
  },
  {
   "cell_type": "code",
   "execution_count": null,
   "metadata": {},
   "outputs": [],
   "source": [
    "import numpy as np\n",
    "\n",
    "def calculate_correlation_coefficient(x_values, y_values):\n",
    "    # Calculate the correlation coefficient using numpy's corrcoef function\n",
    "    correlation_matrix = np.corrcoef(x_values, y_values)\n",
    "    \n",
    "    # The correlation coefficient is the element at index (0, 1) or (1, 0) in the correlation matrix\n",
    "    correlation_coefficient = correlation_matrix[0, 1]\n",
    "    \n",
    "    # Return the correlation coefficient\n",
    "    return correlation_coefficient\n",
    "\n",
    "# Example usage\n",
    "x_values = [1, 2, 3, 4, 5]\n",
    "y_values = [2, 4, 6, 8, 10]\n",
    "result = calculate_correlation_coefficient(x_values, y_values)\n",
    "print(\"Correlation coefficient =\", result)"
   ]
  }
 ],
 "metadata": {
  "kernelspec": {
   "display_name": "Python 3",
   "language": "python",
   "name": "python3"
  },
  "language_info": {
   "codemirror_mode": {
    "name": "ipython",
    "version": 3
   },
   "file_extension": ".py",
   "mimetype": "text/x-python",
   "name": "python",
   "nbconvert_exporter": "python",
   "pygments_lexer": "ipython3",
   "version": "3.11.3"
  },
  "orig_nbformat": 4
 },
 "nbformat": 4,
 "nbformat_minor": 2
}
