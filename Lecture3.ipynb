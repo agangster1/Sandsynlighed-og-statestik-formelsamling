{
 "cells": [
  {
   "attachments": {},
   "cell_type": "markdown",
   "metadata": {},
   "source": [
    "It provides a measure of the central tendency of the variable's distribution.\n",
    "$\\newline$\n",
    "E(X); the expectation represents the average value or mean of a random variable X\n",
    "$\\newline$\n",
    "$E[X] = \\sum \\limits _{i} x_i P(X = x_i) = \\sum \\limits _{i} x_i p(x_i)$"
   ]
  },
  {
   "cell_type": "code",
   "execution_count": null,
   "metadata": {},
   "outputs": [],
   "source": [
    "import math\n",
    "\n",
    "x = [1, 2, 3, 4, 5, 6] #possible events\n",
    "p = [1/6, -1/6, 1/6, -1/6, 1/6, -1/6] #weighted possiblity set by the rules of the game (see slide 4 & 7)\n",
    "\n",
    "# Calculate E(X)\n",
    "expectation = sum(xi * pi for xi, pi in zip(x, p))\n",
    "\n",
    "# Print the result\n",
    "print(\"E(X) =\", expectation)"
   ]
  }
 ],
 "metadata": {
  "language_info": {
   "name": "python"
  },
  "orig_nbformat": 4
 },
 "nbformat": 4,
 "nbformat_minor": 2
}
