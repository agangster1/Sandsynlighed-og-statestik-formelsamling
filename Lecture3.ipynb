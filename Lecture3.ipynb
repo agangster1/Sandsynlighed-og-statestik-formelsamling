{
 "cells": [
  {
   "attachments": {},
   "cell_type": "markdown",
   "metadata": {},
   "source": [
    "E(X); the expectation represents the average value or mean of a random variable X\n",
    "$\\newline$\n",
    "It provides a measure of the central tendency of the variable's distribution.\n",
    "$\\newline$\n",
    "$E[X] = \\sum \\limits _{i} x_i P(X = x_i) = \\sum \\limits _{i} x_i p(x_i)$"
   ]
  },
  {
   "cell_type": "code",
   "execution_count": 1,
   "metadata": {},
   "outputs": [
    {
     "name": "stdout",
     "output_type": "stream",
     "text": [
      "E(X) = -0.5\n"
     ]
    }
   ],
   "source": [
    "import math\n",
    "\n",
    "x = [1, 2, 3, 4, 5, 6] #possible events\n",
    "p = [1/6, -1/6, 1/6, -1/6, 1/6, -1/6] #corresponding weighted probabilities set by the rules of the game (see slide 4 & 7)\n",
    "\n",
    "# Calculate E(X)\n",
    "expectation = sum(xi * pi for xi, pi in zip(x, p))\n",
    "\n",
    "# Print the result\n",
    "print(\"E(X) =\", expectation)"
   ]
  }
 ],
 "metadata": {
  "kernelspec": {
   "display_name": "Python 3",
   "language": "python",
   "name": "python3"
  },
  "language_info": {
   "codemirror_mode": {
    "name": "ipython",
    "version": 3
   },
   "file_extension": ".py",
   "mimetype": "text/x-python",
   "name": "python",
   "nbconvert_exporter": "python",
   "pygments_lexer": "ipython3",
   "version": "3.11.3"
  },
  "orig_nbformat": 4
 },
 "nbformat": 4,
 "nbformat_minor": 2
}
