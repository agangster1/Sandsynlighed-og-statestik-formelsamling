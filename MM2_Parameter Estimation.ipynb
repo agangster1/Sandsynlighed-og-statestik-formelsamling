{
 "cells": [
  {
   "cell_type": "markdown",
   "source": [
    "A confidence interval is a range of values that is likely to contain the true population parameter with a certain level of confidence. In the case of the population mean, the equation you mentioned allows us to estimate the sample mean $(\\hat{µ})$ based on the observed data.\n",
    "\n",
    "$$\\hat{µ} = \\frac{1}{n} \\sum \\limits _ {i=1} ^{n} X_{i} ~ N (µ, \\frac{σ^2}{n})$$\n",
    "\n",
    "$\\hat{µ}$: This represents the estimate of the population mean µ. The hat symbol (\\hat{}) is often used to denote an estimate.\n",
    "\n",
    "X_i: These are the individual observations or values in the sample. The subscript \"i\" indicates the i-th observation.\n",
    "\n",
    "n: This represents the size of the sample, or the number of observations.\n",
    "\n",
    "$N(µ, σ^2/n)$: This represents the distribution of the sample mean. The sample mean is assumed to follow a normal distribution with mean µ and variance σ^2/n.\n",
    "\n",
    "The equation also provides information about the distribution of the sample mean. It states that the sample mean follows a normal distribution with mean µ and variance σ^2/n. The variance of the sample mean decreases as the sample size increases, reflecting a more precise estimation of the population mean."
   ],
   "metadata": {
    "collapsed": false,
    "pycharm": {
     "name": "#%% md\n"
    }
   }
  },
  {
   "cell_type": "markdown",
   "source": [
    "The confidence interval is found as:\n",
    "\n",
    "$$\\hat{µ} ± Z_{value} * (\\frac {σ}{n})$$\n",
    "\n",
    "$\\hat{µ}$: This represents the sample mean, which is an estimate of the population mean.\n",
    "\n",
    "Z-value: This is the critical value from the standard normal distribution corresponding to the desired confidence level. It determines the width of the confidence interval.\n",
    "\n",
    "σ: This is the population standard deviation, which is assumed to be known.\n",
    "\n",
    "n: This represents the sample size, i.e., the number of observations in the sample.\n",
    "\n",
    "This equation is applicable in situations where you have a known population standard deviation and want to estimate the population mean based on a sample. It is commonly used in statistical inference and hypothesis testing to make conclusions about the population mean using sample data."
   ],
   "metadata": {
    "collapsed": false,
    "pycharm": {
     "name": "#%% md\n"
    }
   }
  },
  {
   "cell_type": "code",
   "execution_count": 3,
   "outputs": [
    {
     "name": "stdout",
     "output_type": "stream",
     "text": [
      "Confidence Interval (95.0%): (0.2799392215763126, 0.9200607784236874)\n"
     ]
    }
   ],
   "source": [
    "import scipy.stats as stats\n",
    "import math\n",
    "\n",
    "# To estimate the population mean µ, you calculate the sample mean by taking the sum of all observations and dividing it by the sample size:\n",
    "\n",
    "def calculate_confidence_interval(data, confidence_level):\n",
    "    n = len(data)  # Sample size\n",
    "    sample_mean = sum(data) / n  # Sample mean\n",
    "\n",
    "    # Standard deviation of the sample\n",
    "    sample_std = math.sqrt(sum([(x - sample_mean) ** 2 for x in data]) / (n - 1))\n",
    "\n",
    "    # Z-value corresponding to the desired confidence level\n",
    "    z_value = stats.norm.ppf(1 - (1 - confidence_level) / 2)\n",
    "\n",
    "    # Margin of error\n",
    "    margin_of_error = z_value * (sample_std / math.sqrt(n))\n",
    "\n",
    "    # Confidence interval bounds\n",
    "    lower_bound = sample_mean - margin_of_error\n",
    "    upper_bound = sample_mean + margin_of_error\n",
    "\n",
    "    return (lower_bound, upper_bound)\n",
    "\n",
    "# Example usage\n",
    "data = [2.5, 3.7, 4.1, 2.8, 3.9, 4.5, 3.3, 4.8, 3.7, 2.9]\n",
    "confidence_level = 0.95\n",
    "\n",
    "lower, upper = calculate_confidence_interval(data, confidence_level)\n",
    "\n",
    "# This equation computes the average of the observed values in the sample. It provides an estimate of the population mean based on the available data.\n",
    "\n",
    "print(f\"Confidence Interval ({confidence_level * 100}%): ({lower}, {upper})\")\n"
   ],
   "metadata": {
    "collapsed": false,
    "pycharm": {
     "name": "#%%\n"
    }
   }
  },
  {
   "cell_type": "markdown",
   "source": [
    "The conservative approach or approach 1: Uses the mathematical upper boundary for σ to estimate confidence interval (CI) for a population proportion using the sample proportion as:\n",
    "\n",
    "$$C_{1-a} = (\\hat{p_{n}} - \\frac{Z_{a/2}}{2\\sqrt{n}}, \\hat{p_{n}} + \\frac{Z_{a/2}}{2\\sqrt{n}})$$\n",
    "\n",
    "$C_{1-a}$: This represents the confidence interval for the population proportion.\n",
    "\n",
    "$\\hat{p_{n}}$: This is the sample proportion, which is an estimate of the population proportion.\n",
    "\n",
    "$Z_{a/2}$: This is the critical value from the standard normal distribution corresponding to the desired level of confidence. It determines the width of the confidence interval.\n",
    "\n",
    "n: This represents the sample size, i.e., the number of observations in the sample."
   ],
   "metadata": {
    "collapsed": false,
    "pycharm": {
     "name": "#%% md\n"
    }
   }
  },
  {
   "cell_type": "code",
   "execution_count": 4,
   "outputs": [
    {
     "name": "stdout",
     "output_type": "stream",
     "text": [
      "Confidence Interval (95.0%): (0.4481818425742008, 0.7518181574257992)\n"
     ]
    }
   ],
   "source": [
    "import scipy.stats as stats\n",
    "import math\n",
    "\n",
    "def calculate_confidence_interval(data, confidence_level):\n",
    "    n = len(data)  # Sample size\n",
    "    p_hat = sum(data) / n  # Sample proportion\n",
    "\n",
    "    # Standard error of the sample proportion\n",
    "    std_error = math.sqrt((p_hat * (1 - p_hat)) / n)\n",
    "\n",
    "    # Z-value corresponding to the desired confidence level\n",
    "    z_value = stats.norm.ppf(1 - (1 - confidence_level) / 2)\n",
    "\n",
    "    # Margin of error\n",
    "    margin_of_error = z_value * (std_error / 2)\n",
    "\n",
    "    # Confidence interval bounds\n",
    "    lower_bound = p_hat - margin_of_error\n",
    "    upper_bound = p_hat + margin_of_error\n",
    "\n",
    "    return (lower_bound, upper_bound)\n",
    "\n",
    "# Example usage\n",
    "data = [1, 0, 1, 1, 0, 1, 1, 0, 1, 0]  # Binary data, e.g., success or failure\n",
    "confidence_level = 0.95\n",
    "\n",
    "lower, upper = calculate_confidence_interval(data, confidence_level)\n",
    "\n",
    "print(f\"Confidence Interval ({confidence_level * 100}%): ({lower}, {upper})\")\n"
   ],
   "metadata": {
    "collapsed": false,
    "pycharm": {
     "name": "#%%\n"
    }
   }
  },
  {
   "cell_type": "markdown",
   "source": [
    "Finding sample size from confidence intervals - using approach 1:"
   ],
   "metadata": {
    "collapsed": false,
    "pycharm": {
     "name": "#%% md\n"
    }
   }
  },
  {
   "cell_type": "code",
   "execution_count": null,
   "metadata": {
    "pycharm": {
     "name": "#%%\n"
    }
   },
   "outputs": [],
   "source": [
    "import math\n",
    "\n",
    "confidence_level = 0.99  # Desired confidence level\n",
    "desired_interval_width = 0.05  # Desired width of the confidence interval\n",
    "\n",
    "# Sample proportion\n",
    "p_hat = 26 / 30\n",
    "\n",
    "# Z-critical value (conservative approach)\n",
    "z_critical = 2.576\n",
    "\n",
    "# Calculate required sample size\n",
    "n = math.ceil(((z_critical ** 2) * (0.25)) / ((desired_interval_width / 2) ** 2))\n",
    "\n",
    "n"
   ]
  },
  {
   "attachments": {},
   "cell_type": "markdown",
   "metadata": {
    "pycharm": {
     "name": "#%% md\n"
    }
   },
   "source": [
    "The approximation for the sample mean, $\\hat{p}_{n}$, from MLE for Bernoulli RVs (random variables) is:\n",
    "\n",
    "$$\\hat{p}_{n} = \\bar X_{n} = \\frac{1}{n} \\sum \\limits _ {i=1} ^{n} X_{i}$$\n",
    "\n",
    "This can be used to estimate the confidence interval (CI) for a population proportion (approach 2):\n",
    "\n",
    "$$C_{1-a} = \\hat{p}_{n} - Z_{a/2} \\sqrt{\\frac{\\bar X_{n}(1 - \\bar X_{n})}{n}}, \\hat{p}_{n} + Z_{a/2} \\sqrt{\\frac{\\bar X_{n}(1 - \\bar X_{n})}{n}}$$\n",
    "\n",
    "$C_{1-a}$: This represents the confidence interval for the population proportion.\n",
    "\n",
    "$\\hat{p_{n}}$: This is the sample proportion, which is an estimate of the population proportion.\n",
    "\n",
    "$Z_{a/2}$: This is the critical value from the standard normal distribution corresponding to the desired level of confidence. It determines the width of the confidence interval.\n",
    "\n",
    "$\\bar X_{n}$: This is the sample mean, which is an estimate of the population mean.\n",
    "\n",
    "n: This represents the sample size, i.e., the number of observations in the sample.\n",
    "\n",
    "This equation is applicable in situations where you have a sample proportion and sample mean, and you want to estimate the population proportion based on a sample. It is commonly used in survey research, quality control, and hypothesis testing to estimate proportions and make inferences about the population proportion.\n",
    "\n",
    "This is only valid for Bernoulli RVs"
   ]
  },
  {
   "cell_type": "code",
   "execution_count": 12,
   "metadata": {
    "pycharm": {
     "name": "#%%\n"
    }
   },
   "outputs": [
    {
     "data": {
      "text/plain": [
       "(0.29636368514840156, 0.9036363148515985)"
      ]
     },
     "execution_count": 12,
     "metadata": {},
     "output_type": "execute_result"
    }
   ],
   "source": [
    "import scipy.stats as stats\n",
    "import numpy as np\n",
    "\n",
    "# Sample data\n",
    "data = np.array([1, 0, 1, 1, 0, 1, 1, 0, 1, 0])  # Binary data, e.g., success or failure\n",
    "n = len(data)  # Sample size\n",
    "confidence_level = 0.95\n",
    "\n",
    "# Sample proportion\n",
    "p_hat = np.sum(data) / n\n",
    "\n",
    "# Z-critical value\n",
    "z_critical = stats.norm.ppf(1 - (1 - confidence_level) / 2)\n",
    "\n",
    "# Standard error\n",
    "std_error = np.sqrt((p_hat * (1 - p_hat)) / n)\n",
    "\n",
    "# Confidence interval bounds\n",
    "lower_bound = p_hat - z_critical * std_error\n",
    "upper_bound = p_hat + z_critical * std_error\n",
    "\n",
    "(lower_bound, upper_bound)"
   ]
  },
  {
   "attachments": {},
   "cell_type": "markdown",
   "metadata": {
    "pycharm": {
     "name": "#%% md\n"
    }
   },
   "source": [
    "Finding sample size from confidence intervals - using approach 2:"
   ]
  },
  {
   "cell_type": "code",
   "execution_count": 30,
   "metadata": {
    "pycharm": {
     "name": "#%%\n"
    }
   },
   "outputs": [
    {
     "data": {
      "text/plain": [
       "1227"
      ]
     },
     "execution_count": 30,
     "metadata": {},
     "output_type": "execute_result"
    }
   ],
   "source": [
    "import scipy.stats as stats\n",
    "\n",
    "confidence_level = 0.99  # Desired confidence level\n",
    "desired_interval_width = 0.05  # Desired width of the confidence interval\n",
    "\n",
    "n_succeses = 26 # succeses in the initial sample size\n",
    "n_initial_sample = 30 # initial sample size\n",
    "\n",
    "# Sample proportion\n",
    "p_hat = n_succeses / n_initial_sample\n",
    "\n",
    "# Z-critical value (conservative approach)\n",
    "z_critical = 2.576\n",
    "\n",
    "# Calculate required sample size\n",
    "n = ((z_critical ** 2) * (p_hat * (1 - p_hat))) / ((desired_interval_width / 2) ** 2)\n",
    "\n",
    "# Round up to the nearest integer\n",
    "n = int(round(n))\n",
    "\n",
    "n"
   ]
  },
  {
   "attachments": {},
   "cell_type": "markdown",
   "metadata": {
    "pycharm": {
     "name": "#%% md\n"
    }
   },
   "source": [
    "General approximation of the sample variance: \n",
    "\n",
    "$$\\hat{\\sigma}_n^2 = S_n^2 = \\frac{1}{n-1} \\sum \\limits _ {i=1} ^{n} (X_{i} - \\bar{X_n})^2 = \\frac{1}{n-1} \\sum \\limits _ {i=1} ^{n} X_{i}^2 - n \\bar{X_n}^2$$\n",
    "\n",
    "General approximation of confidence interval:\n",
    "\n",
    "$$C_{1-a} = (\\hat{p}_{n} - Z_{a/2} \\frac{\\hat{\\sigma}_n}{\\sqrt{n}}, \\hat{p}_{n} + Z_{a/2} \\frac{\\hat{\\sigma}_n}{\\sqrt{n}}) = (\\hat{p}_{n} - Z_{a/2} \\frac{S_n}{\\sqrt{n}}, \\hat{p}_{n} + Z_{a/2} \\frac{S_n}{\\sqrt{n}})$$\n",
    "\n",
    "This applies to all kinds of distrubutions and variables."
   ]
  },
  {
   "attachments": {},
   "cell_type": "markdown",
   "metadata": {
    "pycharm": {
     "name": "#%% md\n"
    }
   },
   "source": [
    "Problem with small sample sizes = no good estimate for the variance\n",
    "\n",
    "Solution: Calculate the confidence interval using the t-distrubtion:\n",
    "\n",
    "$$C_{1-a} = (\\hat{\\mu}_n - T_{\\frac{\\alpha}{2}, n-1} \\frac{\\hat{\\sigma}_n}{\\sqrt{n}}, \\hat{\\mu}_n + T_{\\frac{\\alpha}{2}, n-1} \\frac{\\hat{\\sigma}_n}{\\sqrt{n}}) $$\n",
    "\n",
    "Where $T_{\\frac{\\alpha}{2}, n-1}$ = t_critical is found as:\n"
   ]
  },
  {
   "cell_type": "code",
   "execution_count": 9,
   "metadata": {
    "pycharm": {
     "name": "#%%\n"
    }
   },
   "outputs": [
    {
     "data": {
      "text/plain": [
       "2.093024054408263"
      ]
     },
     "execution_count": 9,
     "metadata": {},
     "output_type": "execute_result"
    }
   ],
   "source": [
    "import scipy.stats as stats\n",
    "\n",
    "n = 20  # Sample size\n",
    "alpha = 0.05  # Significance level\n",
    "\n",
    "t_critical = stats.t.ppf(1 - alpha/2, n - 1)\n",
    "\n",
    "t_critical"
   ]
  },
  {
   "attachments": {},
   "cell_type": "markdown",
   "metadata": {
    "pycharm": {
     "name": "#%% md\n"
    }
   },
   "source": [
    "Now we can find the confidence interval using:"
   ]
  },
  {
   "cell_type": "code",
   "execution_count": 10,
   "metadata": {
    "pycharm": {
     "name": "#%%\n"
    }
   },
   "outputs": [
    {
     "data": {
      "text/plain": [
       "(11.693942953142248, 14.306057046857752)"
      ]
     },
     "execution_count": 10,
     "metadata": {},
     "output_type": "execute_result"
    }
   ],
   "source": [
    "import scipy.stats as stats\n",
    "import numpy as np\n",
    "\n",
    "# Sample data\n",
    "data = np.array([10, 12, 15, 14, 13, 16, 11, 12, 14, 13])\n",
    "n = len(data)  # Sample size\n",
    "alpha = 0.05  # Significance level\n",
    "\n",
    "# Sample mean and sample standard deviation\n",
    "mean = np.mean(data)\n",
    "std_dev = np.std(data, ddof=1)\n",
    "\n",
    "# T-critical value\n",
    "t_critical = stats.t.ppf(1 - alpha/2, n - 1)\n",
    "\n",
    "# Margin of error\n",
    "margin_of_error = t_critical * (std_dev / np.sqrt(n))\n",
    "\n",
    "# Confidence interval\n",
    "lower_bound = mean - margin_of_error\n",
    "upper_bound = mean + margin_of_error\n",
    "\n",
    "(lower_bound, upper_bound)"
   ]
  },
  {
   "attachments": {},
   "cell_type": "markdown",
   "metadata": {
    "pycharm": {
     "name": "#%% md\n"
    }
   },
   "source": [
    "Finding sample size from confidence intervals - using t_critical:"
   ]
  },
  {
   "cell_type": "code",
   "execution_count": 23,
   "metadata": {
    "pycharm": {
     "name": "#%%\n"
    }
   },
   "outputs": [
    {
     "data": {
      "text/plain": [
       "1405"
      ]
     },
     "execution_count": 23,
     "metadata": {},
     "output_type": "execute_result"
    }
   ],
   "source": [
    "import scipy.stats as stats\n",
    "\n",
    "confidence_level = 0.99  # Desired confidence level\n",
    "desired_interval_width = 0.05  # Desired width of the confidence interval\n",
    "\n",
    "n_succeses = 26 # succeses in the initial sample size\n",
    "n_initial_sample = 30 # initial sample size\n",
    " \n",
    "# Sample proportion\n",
    "p_hat = n_succeses / n_initial_sample\n",
    "\n",
    "# Degrees of freedom\n",
    "df = n_initial_sample - 1  # n - 1, where n is the initial sample size\n",
    "\n",
    "# t-critical value\n",
    "t_critical = stats.t.ppf(1 - (1 - confidence_level) / 2, df)\n",
    "\n",
    "# Calculate required sample size\n",
    "n = ((t_critical ** 2) * (p_hat * (1 - p_hat))) / ((desired_interval_width / 2) ** 2)\n",
    "\n",
    "# Round up to the nearest integer\n",
    "n = int(round(n))\n",
    "\n",
    "n\n"
   ]
  },
  {
   "cell_type": "code",
   "execution_count": null,
   "outputs": [],
   "source": [],
   "metadata": {
    "collapsed": false,
    "pycharm": {
     "name": "#%%\n"
    }
   }
  },
  {
   "cell_type": "code",
   "execution_count": null,
   "outputs": [],
   "source": [
    "import numpy as np\n",
    "import math\n",
    "from scipy.stats import norm\n",
    "from scipy.stats import t\n",
    "import matplotlib.pyplot as plt\n",
    "\n",
    "# True average temperature\n",
    "mu = 6\n",
    "\n",
    "# Known variance if not know put 1 and only look at the Ta/2,n-1\n",
    "sigma2 = 1\n",
    "\n",
    "# Sample sizes\n",
    "n1 = 10\n",
    "n2 = 1000\n",
    "\n",
    "#choose one of the three confidence levels also known as alpha\n",
    "#standards being 0.1, 0.05, 0.01\n",
    "alpha = 0.01\n",
    "\n",
    "conf= (1 - alpha)*100\n",
    "conf = str(conf)\n",
    "#the z_score of the most common confidence levels is shown and used here\n",
    "z_score = norm.ppf(1-alpha/2)\n",
    "\n",
    "#sigma is the confidence interval\n",
    "#offent shown as\n",
    "#+-sigma\n",
    "#this is the number being squred\n",
    "sigma = math.sqrt(1)\n",
    "\n",
    "# Generate a random sample of temperatures\n",
    "x = mu + np.random.randn(n2)*np.sqrt(sigma2)\n",
    "y = mu + np.random.randn(n1)*np.sqrt(sigma2)\n",
    "\n",
    "# Calculate MLEs for different sample sizes\n",
    "mu_hat1 = np.mean(y[:n1])\n",
    "mu_hat2 = np.mean(x[:n2])\n",
    "\n",
    "CIz1 = (mu_hat1 - z_score * sigma / math.sqrt(n1), mu_hat1 + z_score * sigma / math.sqrt(n1))\n",
    "CIz2 = (mu_hat2 - z_score * sigma / math.sqrt(n2), mu_hat2 + z_score * sigma / math.sqrt(n2))\n",
    "\n",
    "#Based on the created array and alpha the t score is calculated\n",
    "t_score1 = abs(t.ppf(alpha/2, n1-1))\n",
    "#Based on the array and alpha the t score is calculated\n",
    "t_score2 = abs(t.ppf(alpha/2, n2-1))\n",
    "\n",
    "#Then to Confidence interval is being calculated\n",
    "CIt1 = (mu_hat1 - t_score1 * sigma / math.sqrt(n1), mu_hat1 + t_score1 * sigma / math.sqrt(n1))\n",
    "#Then to Confidence interval is being calculated\n",
    "CIt2 = (mu_hat2 - t_score2 * sigma / math.sqrt(n2), mu_hat2 + t_score2 * sigma / math.sqrt(n2))\n",
    "\n",
    "# Count samples outside CIs\n",
    "frac_outside1 = sum((y[:n1] < CIt1[0]) | (y[:n1] > CIt1[1])) / n1\n",
    "frac_outside2 = sum((x[:n2] < CIt2[0]) | (x[:n2] > CIt2[1])) / n2\n",
    "\n",
    "# Plot the collected measurements and the estimated MLEs\n",
    "plt.plot(x, label=\"Measurements\")\n",
    "plt.axhline(y=mu_hat1, color='r', linestyle='--', label=r\"$\\hat{\\mu}_{10}$\")\n",
    "plt.axhline(y=mu_hat2, color='g', linestyle='--', label=r\"$\\hat{\\mu}_{1000}$\")\n",
    "\n",
    "plt.axhline(y=mu, color='b', linestyle='--', label=\"True average\")\n",
    "\n",
    "plt.axhline(y=CIz1[0], color='r', linestyle=':', label=r\"$CI_{10}$\")\n",
    "plt.axhline(y=CIz1[1], color='r', linestyle=':', label=r\"$CI_{10}$\")\n",
    "plt.axhline(y=CIz2[0], color='g', linestyle=':', label=r\"$CI_{1000}$\")\n",
    "plt.axhline(y=CIz2[1], color='g', linestyle=':', label=r\"$CI_{1000}$\")\n",
    "\n",
    "# Print results\n",
    "print(\"True average temperature: mu =\", mu)\n",
    "print(\"Sample sizes: n1 =\", n1, \", n2 =\", n2)\n",
    "print(\"MLEs: mu_hat1 =\", mu_hat1, \", mu_hat2 =\", mu_hat2)\n",
    "\n",
    "print(f\"The {conf}% confidence interval is using Za/2 {CIz1} when n is {n1}.\")\n",
    "print(f\"The {conf}% confidence interval is using Za/2 {CIz2} when n is {n2}.\")\n",
    "\n",
    "print(f\"The {conf}% confidence interval is using Ta/2,n-1 {CIt1} when n is {n1}.\")\n",
    "print(f\"The {conf}% confidence interval is using Ta/2,n-1 {CIt2} when n is {n2}.\")\n",
    "\n",
    "print(f\"The fraction outside is {frac_outside1 * 100}% when n is {n1}.\")\n",
    "print(f\"The fraction outside is {frac_outside2 * 100}% when n is {n2}.\")\n",
    "\n",
    "plt.title(\"99% conf\")\n",
    "plt.legend()\n",
    "plt.xlabel(\"Sample index\")\n",
    "plt.ylabel(\"Temperature\")\n",
    "plt.show()"
   ],
   "metadata": {
    "collapsed": false,
    "pycharm": {
     "name": "#%%\n"
    }
   }
  },
  {
   "cell_type": "code",
   "execution_count": null,
   "outputs": [],
   "source": [],
   "metadata": {
    "collapsed": false,
    "pycharm": {
     "name": "#%%\n"
    }
   }
  },
  {
   "cell_type": "code",
   "execution_count": null,
   "outputs": [],
   "source": [
    "import numpy as np\n",
    "import matplotlib.pyplot as plt\n",
    "\n",
    "# True average temperature\n",
    "mu = 6\n",
    "\n",
    "# Known variance\n",
    "sigma2 = 1\n",
    "\n",
    "# Sample sizes\n",
    "n1 = 10\n",
    "n2 = 1000\n",
    "\n",
    "# Generate a random sample of temperatures\n",
    "x = mu + np.random.randn(n2)*np.sqrt(sigma2)\n",
    "\n",
    "# Calculate MLEs for different sample sizes\n",
    "mu_hat1 = np.mean(x[:n1])\n",
    "mu_hat2 = np.mean(x[:n2])\n",
    "\n",
    "# Plot the collected measurements and the estimated MLEs\n",
    "plt.plot(x, label=\"Measurements\")\n",
    "plt.axhline(y=mu_hat1, color='r', linestyle='--', label=r\"$\\hat{\\mu}_{10}$\")\n",
    "plt.axhline(y=mu_hat2, color='g', linestyle='--', label=r\"$\\hat{\\mu}_{1000}$\")\n",
    "plt.legend()\n",
    "plt.xlabel(\"Sample index\")\n",
    "plt.ylabel(\"Temperature\")\n",
    "plt.show()\n"
   ],
   "metadata": {
    "collapsed": false,
    "pycharm": {
     "name": "#%%\n"
    }
   }
  }
 ],
 "metadata": {
  "kernelspec": {
   "display_name": "Python 3",
   "language": "python",
   "name": "python3"
  },
  "language_info": {
   "codemirror_mode": {
    "name": "ipython",
    "version": 3
   },
   "file_extension": ".py",
   "mimetype": "text/x-python",
   "name": "python",
   "nbconvert_exporter": "python",
   "pygments_lexer": "ipython3",
   "version": "3.11.3"
  },
  "orig_nbformat": 4
 },
 "nbformat": 4,
 "nbformat_minor": 2
}