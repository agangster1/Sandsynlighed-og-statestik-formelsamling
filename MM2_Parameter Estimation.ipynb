{
 "cells": [
  {
   "attachments": {},
   "cell_type": "markdown",
   "metadata": {},
   "source": [
    "A confidence interval is a range of values that is likely to contain the true population parameter with a certain level of confidence. In the case of the population mean, the equation you mentioned allows us to estimate the sample mean $(\\hat{µ})$ based on the observed data.\n",
    "\n",
    "$$\\hat{µ} = \\frac{1}{n} \\sum \\limits _ {i=1} ^{n} X_{i} ~ N (µ, \\frac{σ^2}{n})$$\n",
    "\n",
    "$\\hat{µ}$: This represents the estimate of the population mean µ. The hat symbol (\\hat{}) is often used to denote an estimate.\n",
    "\n",
    "X_i: These are the individual observations or values in the sample. The subscript \"i\" indicates the i-th observation.\n",
    "\n",
    "n: This represents the size of the sample, or the number of observations.\n",
    "\n",
    "$N(µ, σ^2/n)$: This represents the distribution of the sample mean. The sample mean is assumed to follow a normal distribution with mean µ and variance σ^2/n.\n",
    "\n",
    "The equation also provides information about the distribution of the sample mean. It states that the sample mean follows a normal distribution with mean µ and variance σ^2/n. The variance of the sample mean decreases as the sample size increases, reflecting a more precise estimation of the population mean."
   ]
  },
  {
   "attachments": {},
   "cell_type": "markdown",
   "metadata": {},
   "source": [
    "The confidence interval is found as:\n",
    "\n",
    "$$\\hat{µ} ± Z_{value} * (\\frac {σ}{n})$$\n",
    "\n",
    "$\\hat{µ}$: This represents the sample mean, which is an estimate of the population mean.\n",
    "\n",
    "Z-value: This is the critical value from the standard normal distribution corresponding to the desired confidence level. It determines the width of the confidence interval.\n",
    "\n",
    "σ: This is the population standard deviation, which is assumed to be known.\n",
    "\n",
    "n: This represents the sample size, i.e., the number of observations in the sample.\n",
    "\n",
    "This equation is applicable in situations where you have a known population standard deviation and want to estimate the population mean based on a sample. It is commonly used in statistical inference and hypothesis testing to make conclusions about the population mean using sample data."
   ]
  },
  {
   "cell_type": "code",
   "execution_count": 3,
   "metadata": {},
   "outputs": [
    {
     "name": "stdout",
     "output_type": "stream",
     "text": [
      "Confidence Interval (95.0%): (0.2799392215763126, 0.9200607784236874)\n"
     ]
    }
   ],
   "source": [
    "import scipy.stats as stats\n",
    "import math\n",
    "\n",
    "# To estimate the population mean µ, you calculate the sample mean by taking the sum of all observations and dividing it by the sample size:\n",
    "\n",
    "def calculate_confidence_interval(data, confidence_level):\n",
    "    n = len(data)  # Sample size\n",
    "    sample_mean = sum(data) / n  # Sample mean\n",
    "\n",
    "    # Standard deviation of the sample\n",
    "    sample_std = math.sqrt(sum([(x - sample_mean) ** 2 for x in data]) / (n - 1))\n",
    "\n",
    "    # Z-value corresponding to the desired confidence level\n",
    "    z_value = stats.norm.ppf(1 - (1 - confidence_level) / 2)\n",
    "\n",
    "    # Margin of error\n",
    "    margin_of_error = z_value * (sample_std / math.sqrt(n))\n",
    "\n",
    "    # Confidence interval bounds\n",
    "    lower_bound = sample_mean - margin_of_error\n",
    "    upper_bound = sample_mean + margin_of_error\n",
    "\n",
    "    return (lower_bound, upper_bound)\n",
    "\n",
    "# Example usage\n",
    "data = [2.5, 3.7, 4.1, 2.8, 3.9, 4.5, 3.3, 4.8, 3.7, 2.9]\n",
    "confidence_level = 0.95\n",
    "\n",
    "lower, upper = calculate_confidence_interval(data, confidence_level)\n",
    "\n",
    "# This equation computes the average of the observed values in the sample. It provides an estimate of the population mean based on the available data.\n",
    "\n",
    "print(f\"Confidence Interval ({confidence_level * 100}%): ({lower}, {upper})\")\n"
   ]
  },
  {
   "attachments": {},
   "cell_type": "markdown",
   "metadata": {},
   "source": [
    "The conservative approach or approach 1: Uses the mathematical upper boundary for σ to estimate confidence interval (CI) for a population proportion using the sample proportion as:\n",
    "\n",
    "$$C_{1-a} = (\\hat{p_{n}} - \\frac{Z_{a/2}}{2\\sqrt{n}}, \\hat{p_{n}} + \\frac{Z_{a/2}}{2\\sqrt{n}})$$\n",
    "\n",
    "$C_{1-a}$: This represents the confidence interval for the population proportion.\n",
    "\n",
    "$\\hat{p_{n}}$: This is the sample proportion, which is an estimate of the population proportion.\n",
    "\n",
    "$Z_{a/2}$: This is the critical value from the standard normal distribution corresponding to the desired level of confidence. It determines the width of the confidence interval.\n",
    "\n",
    "n: This represents the sample size, i.e., the number of observations in the sample."
   ]
  },
  {
   "cell_type": "code",
   "execution_count": 4,
   "metadata": {},
   "outputs": [
    {
     "name": "stdout",
     "output_type": "stream",
     "text": [
      "Confidence Interval (95.0%): (0.4481818425742008, 0.7518181574257992)\n"
     ]
    }
   ],
   "source": [
    "import scipy.stats as stats\n",
    "import math\n",
    "\n",
    "def calculate_confidence_interval(data, confidence_level):\n",
    "    n = len(data)  # Sample size\n",
    "    p_hat = sum(data) / n  # Sample proportion\n",
    "\n",
    "    # Standard error of the sample proportion\n",
    "    std_error = math.sqrt((p_hat * (1 - p_hat)) / n)\n",
    "\n",
    "    # Z-value corresponding to the desired confidence level\n",
    "    z_value = stats.norm.ppf(1 - (1 - confidence_level) / 2)\n",
    "\n",
    "    # Margin of error\n",
    "    margin_of_error = z_value * (std_error / 2)\n",
    "\n",
    "    # Confidence interval bounds\n",
    "    lower_bound = p_hat - margin_of_error\n",
    "    upper_bound = p_hat + margin_of_error\n",
    "\n",
    "    return (lower_bound, upper_bound)\n",
    "\n",
    "# Example usage\n",
    "data = [1, 0, 1, 1, 0, 1, 1, 0, 1, 0]  # Binary data, e.g., success or failure\n",
    "confidence_level = 0.95\n",
    "\n",
    "lower, upper = calculate_confidence_interval(data, confidence_level)\n",
    "\n",
    "print(f\"Confidence Interval ({confidence_level * 100}%): ({lower}, {upper})\")\n"
   ]
  },
  {
   "attachments": {},
   "cell_type": "markdown",
   "metadata": {},
   "source": [
    "Finding sample size from confidence intervals - using approach 1:"
   ]
  },
  {
   "cell_type": "code",
   "execution_count": null,
   "metadata": {},
   "outputs": [],
   "source": [
    "import math\n",
    "\n",
    "confidence_level = 0.99  # Desired confidence level\n",
    "desired_interval_width = 0.05  # Desired width of the confidence interval\n",
    "\n",
    "# Sample proportion\n",
    "p_hat = 26 / 30\n",
    "\n",
    "# Z-critical value (conservative approach)\n",
    "z_critical = 2.576\n",
    "\n",
    "# Calculate required sample size\n",
    "n = math.ceil(((z_critical ** 2) * (0.25)) / ((desired_interval_width / 2) ** 2))\n",
    "\n",
    "n"
   ]
  },
  {
   "attachments": {},
   "cell_type": "markdown",
   "metadata": {},
   "source": [
    "The approximation for the sample mean, $\\hat{p}_{n}$, from MLE for Bernoulli RVs (random variables) is:\n",
    "\n",
    "$$\\hat{p}_{n} = \\bar X_{n} = \\frac{1}{n} \\sum \\limits _ {i=1} ^{n} X_{i}$$\n",
    "\n",
    "This can be used to estimate the confidence interval (CI) for a population proportion (approach 2):\n",
    "\n",
    "$$C_{1-a} = \\hat{p}_{n} - Z_{a/2} \\sqrt{\\frac{\\bar X_{n}(1 - \\bar X_{n})}{n}}, \\hat{p}_{n} + Z_{a/2} \\sqrt{\\frac{\\bar X_{n}(1 - \\bar X_{n})}{n}}$$\n",
    "\n",
    "$C_{1-a}$: This represents the confidence interval for the population proportion.\n",
    "\n",
    "$\\hat{p_{n}}$: This is the sample proportion, which is an estimate of the population proportion.\n",
    "\n",
    "$Z_{a/2}$: This is the critical value from the standard normal distribution corresponding to the desired level of confidence. It determines the width of the confidence interval.\n",
    "\n",
    "$\\bar X_{n}$: This is the sample mean, which is an estimate of the population mean.\n",
    "\n",
    "n: This represents the sample size, i.e., the number of observations in the sample.\n",
    "\n",
    "This equation is applicable in situations where you have a sample proportion and sample mean, and you want to estimate the population proportion based on a sample. It is commonly used in survey research, quality control, and hypothesis testing to estimate proportions and make inferences about the population proportion.\n",
    "\n",
    "This is only valid for Bernoulli RVs"
   ]
  },
  {
   "cell_type": "code",
   "execution_count": 12,
   "metadata": {},
   "outputs": [
    {
     "data": {
      "text/plain": [
       "(0.29636368514840156, 0.9036363148515985)"
      ]
     },
     "execution_count": 12,
     "metadata": {},
     "output_type": "execute_result"
    }
   ],
   "source": [
    "import scipy.stats as stats\n",
    "import numpy as np\n",
    "\n",
    "# Sample data\n",
    "data = np.array([1, 0, 1, 1, 0, 1, 1, 0, 1, 0])  # Binary data, e.g., success or failure\n",
    "n = len(data)  # Sample size\n",
    "confidence_level = 0.95\n",
    "\n",
    "# Sample proportion\n",
    "p_hat = np.sum(data) / n\n",
    "\n",
    "# Z-critical value\n",
    "z_critical = stats.norm.ppf(1 - (1 - confidence_level) / 2)\n",
    "\n",
    "# Standard error\n",
    "std_error = np.sqrt((p_hat * (1 - p_hat)) / n)\n",
    "\n",
    "# Confidence interval bounds\n",
    "lower_bound = p_hat - z_critical * std_error\n",
    "upper_bound = p_hat + z_critical * std_error\n",
    "\n",
    "(lower_bound, upper_bound)"
   ]
  },
  {
   "attachments": {},
   "cell_type": "markdown",
   "metadata": {},
   "source": [
    "Finding sample size from confidence intervals - using approach 2:"
   ]
  },
  {
   "cell_type": "code",
   "execution_count": 30,
   "metadata": {},
   "outputs": [
    {
     "data": {
      "text/plain": [
       "1227"
      ]
     },
     "execution_count": 30,
     "metadata": {},
     "output_type": "execute_result"
    }
   ],
   "source": [
    "import scipy.stats as stats\n",
    "\n",
    "confidence_level = 0.99  # Desired confidence level\n",
    "desired_interval_width = 0.05  # Desired width of the confidence interval\n",
    "\n",
    "n_succeses = 26 # succeses in the initial sample size\n",
    "n_initial_sample = 30 # initial sample size\n",
    "\n",
    "# Sample proportion\n",
    "p_hat = n_succeses / n_initial_sample\n",
    "\n",
    "# Z-critical value (conservative approach)\n",
    "z_critical = 2.576\n",
    "\n",
    "# Calculate required sample size\n",
    "n = ((z_critical ** 2) * (p_hat * (1 - p_hat))) / ((desired_interval_width / 2) ** 2)\n",
    "\n",
    "# Round up to the nearest integer\n",
    "n = int(round(n))\n",
    "\n",
    "n"
   ]
  },
  {
   "attachments": {},
   "cell_type": "markdown",
   "metadata": {},
   "source": [
    "General approximation of the sample variance: \n",
    "\n",
    "$$\\hat{\\sigma}_n^2 = S_n^2 = \\frac{1}{n-1} \\sum \\limits _ {i=1} ^{n} (X_{i} - \\bar{X_n})^2 = \\frac{1}{n-1} \\sum \\limits _ {i=1} ^{n} X_{i}^2 - n \\bar{X_n}^2$$\n",
    "\n",
    "General approximation of confidence interval:\n",
    "\n",
    "$$C_{1-a} = (\\hat{p}_{n} - Z_{a/2} \\frac{\\hat{\\sigma}_n}{\\sqrt{n}}, \\hat{p}_{n} + Z_{a/2} \\frac{\\hat{\\sigma}_n}{\\sqrt{n}}) = (\\hat{p}_{n} - Z_{a/2} \\frac{S_n}{\\sqrt{n}}, \\hat{p}_{n} + Z_{a/2} \\frac{S_n}{\\sqrt{n}})$$\n",
    "\n",
    "This applies to all kinds of distrubutions and variables."
   ]
  },
  {
   "attachments": {},
   "cell_type": "markdown",
   "metadata": {},
   "source": [
    "Problem with small sample sizes = no good estimate for the variance\n",
    "\n",
    "Solution: Calculate the confidence interval using the t-distrubtion:\n",
    "\n",
    "$$C_{1-a} = (\\hat{\\mu}_n - T_{\\frac{\\alpha}{2}, n-1} \\frac{\\hat{\\sigma}_n}{\\sqrt{n}}, \\hat{\\mu}_n + T_{\\frac{\\alpha}{2}, n-1} \\frac{\\hat{\\sigma}_n}{\\sqrt{n}}) $$\n",
    "\n",
    "Where $T_{\\frac{\\alpha}{2}, n-1}$ = t_critical is found as:\n"
   ]
  },
  {
   "cell_type": "code",
   "execution_count": 9,
   "metadata": {},
   "outputs": [
    {
     "data": {
      "text/plain": [
       "2.093024054408263"
      ]
     },
     "execution_count": 9,
     "metadata": {},
     "output_type": "execute_result"
    }
   ],
   "source": [
    "import scipy.stats as stats\n",
    "\n",
    "n = 20  # Sample size\n",
    "alpha = 0.05  # Significance level\n",
    "\n",
    "t_critical = stats.t.ppf(1 - alpha/2, n - 1)\n",
    "\n",
    "t_critical"
   ]
  },
  {
   "attachments": {},
   "cell_type": "markdown",
   "metadata": {},
   "source": [
    "Now we can find the confidence interval using:"
   ]
  },
  {
   "cell_type": "code",
   "execution_count": 10,
   "metadata": {},
   "outputs": [
    {
     "data": {
      "text/plain": [
       "(11.693942953142248, 14.306057046857752)"
      ]
     },
     "execution_count": 10,
     "metadata": {},
     "output_type": "execute_result"
    }
   ],
   "source": [
    "import scipy.stats as stats\n",
    "import numpy as np\n",
    "\n",
    "# Sample data\n",
    "data = np.array([10, 12, 15, 14, 13, 16, 11, 12, 14, 13])\n",
    "n = len(data)  # Sample size\n",
    "alpha = 0.05  # Significance level\n",
    "\n",
    "# Sample mean and sample standard deviation\n",
    "mean = np.mean(data)\n",
    "std_dev = np.std(data, ddof=1)\n",
    "\n",
    "# T-critical value\n",
    "t_critical = stats.t.ppf(1 - alpha/2, n - 1)\n",
    "\n",
    "# Margin of error\n",
    "margin_of_error = t_critical * (std_dev / np.sqrt(n))\n",
    "\n",
    "# Confidence interval\n",
    "lower_bound = mean - margin_of_error\n",
    "upper_bound = mean + margin_of_error\n",
    "\n",
    "(lower_bound, upper_bound)"
   ]
  },
  {
   "attachments": {},
   "cell_type": "markdown",
   "metadata": {},
   "source": [
    "Finding sample size from confidence intervals - using t_critical:"
   ]
  },
  {
   "cell_type": "code",
   "execution_count": 23,
   "metadata": {},
   "outputs": [
    {
     "data": {
      "text/plain": [
       "1405"
      ]
     },
     "execution_count": 23,
     "metadata": {},
     "output_type": "execute_result"
    }
   ],
   "source": [
    "import scipy.stats as stats\n",
    "\n",
    "confidence_level = 0.99  # Desired confidence level\n",
    "desired_interval_width = 0.05  # Desired width of the confidence interval\n",
    "\n",
    "n_succeses = 26 # succeses in the initial sample size\n",
    "n_initial_sample = 30 # initial sample size\n",
    " \n",
    "# Sample proportion\n",
    "p_hat = n_succeses / n_initial_sample\n",
    "\n",
    "# Degrees of freedom\n",
    "df = n_initial_sample - 1  # n - 1, where n is the initial sample size\n",
    "\n",
    "# t-critical value\n",
    "t_critical = stats.t.ppf(1 - (1 - confidence_level) / 2, df)\n",
    "\n",
    "# Calculate required sample size\n",
    "n = ((t_critical ** 2) * (p_hat * (1 - p_hat))) / ((desired_interval_width / 2) ** 2)\n",
    "\n",
    "# Round up to the nearest integer\n",
    "n = int(round(n))\n",
    "\n",
    "n\n"
   ]
  }
 ],
 "metadata": {
  "kernelspec": {
   "display_name": "Python 3",
   "language": "python",
   "name": "python3"
  },
  "language_info": {
   "codemirror_mode": {
    "name": "ipython",
    "version": 3
   },
   "file_extension": ".py",
   "mimetype": "text/x-python",
   "name": "python",
   "nbconvert_exporter": "python",
   "pygments_lexer": "ipython3",
   "version": "3.11.3"
  },
  "orig_nbformat": 4
 },
 "nbformat": 4,
 "nbformat_minor": 2
}