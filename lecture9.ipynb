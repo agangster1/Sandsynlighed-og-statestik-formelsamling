{
 "cells": [
  {
   "cell_type": "markdown",
   "source": [
    "This lecture the focus was hypothesis testing were h0 is the null hypothesis\n",
    "\n",
    "|              | Accept            | Reject            |\n",
    "|--------------|-------------------|-------------------|\n",
    "| H0 is true   | Correct Decision  | Type I Error      |\n",
    "| H0 is false  | Type II Error     | Correct Decision  |\n"
   ],
   "metadata": {
    "collapsed": false,
    "pycharm": {
     "name": "#%% md\n"
    }
   }
  },
  {
   "cell_type": "markdown",
   "source": [
    "To find the two-sided confident interval using the z_score from a sample using this formular"
   ],
   "metadata": {
    "collapsed": false,
    "pycharm": {
     "name": "#%% md\n"
    }
   }
  },
  {
   "cell_type": "markdown",
   "source": [
    "$$CI = \\left(\\text{{sample\\_mean}} - \\text{{z\\_score}} \\cdot \\frac{{\\text{{sigma}}}}{{\\sqrt{n}}}, \\text{{sample\\_mean}} + \\text{{z\\_score}} \\cdot \\frac{{\\text{{sigma}}}}{{\\sqrt{n}}}\\right)$$"
   ],
   "metadata": {
    "collapsed": false,
    "pycharm": {
     "name": "#%% md\n"
    }
   }
  },
  {
   "cell_type": "code",
   "execution_count": 14,
   "outputs": [
    {
     "name": "stdout",
     "output_type": "stream",
     "text": [
      "The 0.99996% confidence interval is 8.153022017697415, 8.204977982302589.\n"
     ]
    }
   ],
   "source": [
    "import numpy as np\n",
    "import math\n",
    "from scipy.stats import norm\n",
    "\n",
    "#inset the observations in a array\n",
    "sample = [8.18, 8.17, 8.16, 8.15, 8.17, 8.21, 8.22, 8.16, 8.19, 8.18]\n",
    "\n",
    "#Based on the array we calculate the mean\n",
    "sample_mean = np.mean(sample)\n",
    "\n",
    "#choose one of the three confidence levels\n",
    "#standards being 0.1, 0.05, 0.01\n",
    "confidence_level = 0.05\n",
    "conf_lvl_pro = (1 - confidence_level)*100\n",
    "\n",
    "#the z_score of the most common confidence levels is shown and used here\n",
    "z_score = norm.ppf(1-confidence_level/2)\n",
    "\n",
    "#sigma is the confidence interval\n",
    "#offent shown as +-sigma\n",
    "#also known as standard error\n",
    "#this is the number being squred\n",
    "sigma = 0.02\n",
    "\n",
    "#based on the array we calculate the sample size\n",
    "n = len(sample)\n",
    "\n",
    "#Then to Confidence interval is being calculated\n",
    "CIlower = (sample_mean - z_score * sigma / math.sqrt(n))\n",
    "CIupper = (sample_mean + z_score * sigma / math.sqrt(n))\n",
    "\n",
    "print(f\"The {conf_lvl_pro}% confidence interval is {CIlower}, {CIupper}.\")\n"
   ],
   "metadata": {
    "collapsed": false,
    "pycharm": {
     "name": "#%%\n"
    }
   }
  },
  {
   "cell_type": "markdown",
   "source": [],
   "metadata": {
    "collapsed": false,
    "pycharm": {
     "name": "#%% md\n"
    }
   }
  },
  {
   "cell_type": "markdown",
   "source": [
    "Using the confidence interval calculated above, h0 is being tested\n",
    "h0 is accepted if it is within the confidence interval\n",
    "h0 is rejected if it is outside the confidence interval"
   ],
   "metadata": {
    "collapsed": false,
    "pycharm": {
     "name": "#%% md\n"
    }
   }
  },
  {
   "cell_type": "code",
   "execution_count": 15,
   "outputs": [
    {
     "name": "stdout",
     "output_type": "stream",
     "text": [
      "h1 is accepted\n"
     ]
    }
   ],
   "source": [
    "import numpy as np\n",
    "import math\n",
    "from scipy.stats import norm\n",
    "\n",
    "#inset the observations in a array\n",
    "signal_strengths = [8.18, 8.17, 8.16, 8.15, 8.17, 8.21, 8.22, 8.16, 8.19, 8.18]\n",
    "\n",
    "#Based on the array we calculate the mean\n",
    "sample_mean = np.mean(signal_strengths)\n",
    "\n",
    "#choose one of the three confidence levels\n",
    "#standards being 0.1, 0.05, 0.01\n",
    "confidence_level = 0.05\n",
    "conf_lvl_pro = (1 - confidence_level)*100\n",
    "\n",
    "#the z_score of the most common confidence levels is shown and used here\n",
    "z_score = norm.ppf(1-confidence_level/2)\n",
    "\n",
    "#sigma is the confidence interval\n",
    "#offent shown as +-sigma\n",
    "#also known as standard error\n",
    "#this is the number being squred\n",
    "sigma = 0.02\n",
    "\n",
    "#based on the array we calculate the sample size\n",
    "n = len(signal_strengths)\n",
    "\n",
    "#Then to Confidence interval is being calculated\n",
    "CIlower = (sample_mean - z_score * sigma / math.sqrt(n))\n",
    "CIupper = (sample_mean + z_score * sigma / math.sqrt(n))\n",
    "\n",
    "Expected_result_for_h0 = 8.2\n",
    "\n",
    "print(f\"Testing for an expected value {Expected_result_for_h0}\")\n",
    "print(f\"With {conf_lvl_pro}% confidence, the interval is between {CIlower}, {CIupper}.\")\n",
    "\n",
    "if CIlower < Expected_result_for_h0 < CIupper:\n",
    "    print(\"Therefore h0 is accepted\")\n",
    "else:\n",
    "    print(\"Therefore h0 is rejected\")\n"
   ],
   "metadata": {
    "collapsed": false,
    "pycharm": {
     "name": "#%%\n"
    }
   }
  },
  {
   "cell_type": "markdown",
   "source": [
    "To find the one-sided confident interval using the z_score from a sample using this formular"
   ],
   "metadata": {
    "collapsed": false,
    "pycharm": {
     "name": "#%% md\n"
    }
   }
  },
  {
   "cell_type": "markdown",
   "source": [
    "$$CI lower boundery = \\left(\\text{{sample\\_mean}} - \\text{{z\\_score}} \\cdot \\frac{{\\text{{sigma}}}}{{\\sqrt{n}}}\\right)$$\n",
    "$$CI upper aboundery = \\left(\\text{{sample\\_mean}} + \\text{{z\\_score}} \\cdot \\frac{{\\text{{sigma}}}}{{\\sqrt{n}}}\\right)$$"
   ],
   "metadata": {
    "collapsed": false,
    "pycharm": {
     "name": "#%% md\n"
    }
   }
  },
  {
   "cell_type": "code",
   "execution_count": 16,
   "outputs": [
    {
     "name": "stdout",
     "output_type": "stream",
     "text": [
      "The 0.99996% upper confidence interval is 8.203946576537808.\n",
      "The 0.99996% lower confidence interval is 8.154053423462196.\n"
     ]
    }
   ],
   "source": [
    "import numpy as np\n",
    "import math\n",
    "from scipy.stats import norm\n",
    "\n",
    "#inset the observations in a array\n",
    "sample = [8.18, 8.17, 8.16, 8.15, 8.17, 8.21, 8.22, 8.16, 8.19, 8.18]\n",
    "\n",
    "#Based on the array we calculate the mean\n",
    "sample_mean = np.mean(sample)\n",
    "\n",
    "#choose one of the three confidence levels\n",
    "#standards being 0.1, 0.05, 0.01\n",
    "confidence_level = 0.05\n",
    "conf_lvl_pro = (1 - confidence_level)*100\n",
    "\n",
    "#the z_score of the most common confidence levels is shown and used here\n",
    "z_score = norm.ppf(1-confidence_level)\n",
    "\n",
    "#sigma is the confidence interval\n",
    "#offent shown as +-sigma\n",
    "#also known as standard error\n",
    "#this is the number being squred\n",
    "sigma = 0.02\n",
    "\n",
    "#based on the array we calculate the sample size\n",
    "n = len(sample)\n",
    "\n",
    "#Then to Confidence interval is being calculated\n",
    "CIlower = (sample_mean - z_score * sigma / math.sqrt(n))\n",
    "CIupper = (sample_mean + z_score * sigma / math.sqrt(n))\n",
    "\n",
    "print(f\"With {conf_lvl_pro}% confidence, the interval is below {CIupper}.\")\n",
    "\n",
    "print(\"\\n ----------------------------------------------- \\n\")\n",
    "\n",
    "print(f\"With {conf_lvl_pro}% confidence, the interval is above {CIlower}.\")"
   ],
   "metadata": {
    "collapsed": false,
    "pycharm": {
     "name": "#%%\n"
    }
   }
  },
  {
   "cell_type": "markdown",
   "source": [
    "Then preforming the h0 testing with one-sided confidence intervals"
   ],
   "metadata": {
    "collapsed": false,
    "pycharm": {
     "name": "#%% md\n"
    }
   }
  },
  {
   "cell_type": "code",
   "execution_count": 18,
   "outputs": [
    {
     "name": "stdout",
     "output_type": "stream",
     "text": [
      "Testing for an expected value 8.2\n",
      "With 95.0% confidence, the interval is above 8.168597032242491.\n",
      "h0 is accepted\n",
      "\n",
      " ---------------------------------- \n",
      "\n",
      "Testing for an expected value 8.2\n",
      "With 95.0% confidence, the interval is below 8.189402967757513.\n",
      "h0 is accepted\n"
     ]
    }
   ],
   "source": [
    "import numpy as np\n",
    "import math\n",
    "from scipy.stats import norm\n",
    "\n",
    "#inset the observations in a array\n",
    "signal_strengths = [8.18, 8.17, 8.16, 8.15, 8.17, 8.21, 8.22, 8.16, 8.19, 8.18]\n",
    "\n",
    "#Based on the array we calculate the mean\n",
    "sample_mean = np.mean(signal_strengths)\n",
    "\n",
    "#choose one of the three confidence levels\n",
    "#standards being 0.1, 0.05, 0.01\n",
    "confidence_level = 0.05\n",
    "conf_lvl_pro = (1 - confidence_level)*100\n",
    "\n",
    "#the z_score of the most common confidence levels is shown and used here\n",
    "z_score = norm.ppf(1-confidence_level)\n",
    "\n",
    "#sigma is the confidence interval\n",
    "#offent shown as +-sigma\n",
    "#also known as standard error\n",
    "#this is the number being squred\n",
    "sigma = 0.02\n",
    "\n",
    "#based on the array we calculate the sample size\n",
    "n = len(signal_strengths)\n",
    "\n",
    "#Then to Confidence interval is being calculated\n",
    "CIlower = (sample_mean - z_score * sigma / math.sqrt(n))\n",
    "CIupper = (sample_mean + z_score * sigma / math.sqrt(n))\n",
    "\n",
    "Expected_result_for_h0 = 8.2\n",
    "\n",
    "print(f\"Testing for an expected value {Expected_result_for_h0}\")\n",
    "print(f\"With {conf_lvl_pro}% confidence, the interval is above {CIlower}.\")\n",
    "\n",
    "if CIlower < Expected_result_for_h0:\n",
    "    print(\"Therefore h0 is accepted\")\n",
    "else:\n",
    "    print(\"Therefore h0 is rejected\")\n",
    "\n",
    "print(\"\\n ----------------------------------------------- \\n\")\n",
    "\n",
    "print(f\"Testing for an expected value {Expected_result_for_h0}\")\n",
    "print(f\"With {conf_lvl_pro}% confidence, the interval is below {CIupper}.\")\n",
    "\n",
    "if CIupper < Expected_result_for_h0:\n",
    "    print(\"Therefore h0 is accepted\")\n",
    "else:\n",
    "    print(\"Therefore h0 is rejected\")"
   ],
   "metadata": {
    "collapsed": false,
    "pycharm": {
     "name": "#%%\n"
    }
   }
  },
  {
   "cell_type": "code",
   "execution_count": null,
   "outputs": [],
   "source": [],
   "metadata": {
    "collapsed": false,
    "pycharm": {
     "name": "#%%\n"
    }
   }
  }
 ],
 "metadata": {
  "kernelspec": {
   "display_name": "Python 3",
   "language": "python",
   "name": "python3"
  },
  "language_info": {
   "codemirror_mode": {
    "name": "ipython",
    "version": 2
   },
   "file_extension": ".py",
   "mimetype": "text/x-python",
   "name": "python",
   "nbconvert_exporter": "python",
   "pygments_lexer": "ipython2",
   "version": "2.7.6"
  }
 },
 "nbformat": 4,
 "nbformat_minor": 0
}