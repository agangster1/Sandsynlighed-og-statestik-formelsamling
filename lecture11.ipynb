{
 "cells": [
  {
   "attachments": {},
   "cell_type": "markdown",
   "metadata": {},
   "source": [
    "**Linear regression**  \n",
    "We have data in the form (𝑋1, 𝑌1) , … , (𝑋𝑛, 𝑌𝑛)\n",
    "And assume that the relationship between variables is linear\n",
    "$$Y_i = β_0 + β_1X_i + ε_i$$\n",
    "Where\n",
    "- 𝛽0 (beta 0) is the y-intercept  \n",
    "- 𝛽1 (beta 1) is the slope  \n",
    "- 𝜖𝑖 (ebsolom i) is the error (also called noise)  \n",
    "- 𝔼(𝜖𝑖|𝑋𝑖) = 0  \n",
    "- Var(𝜖𝑖|𝑋𝑖) = 𝜎^2\n",
    "\n",
    "**Simple linear regression**  \n",
    "The parameters 𝛽0 and 𝛽1 are unknown: we have to estimate them\n",
    "We end up with 𝛽0 and 𝛽1 so the fitted line is\n",
    "$$\\hat{r}(x)=β_0 + β_1X$$\n",
    "The predicted values are:\n",
    "$$\\hat{Y_i}=\\hat{r}(X_i)$$\n",
    "and the residuals are:\n",
    "$$\\hat{ε_i}=Y_i-\\hat{Y_i}=Y_i-(\\hat{β_0}+\\hat{β_1}X_i)$$\n",
    "\n",
    "By estimating the parameters and analyzing the residuals, linear regression allows us to understand and quantify the relationship between variables and make predictions based on the fitted model."
   ]
  },
  {
   "attachments": {},
   "cell_type": "markdown",
   "metadata": {},
   "source": [
    "**Least squares estimators**  \n",
    "Determining the best estimate  \n",
    "In general, it is impossible to find a line that passes over all the points  \n",
    "$$\\hat{r}(x)=\\hat{β_0}+\\hat{β_1}X$$\n",
    "The best fitted line is the one with the best estimators $$\\hat{β_0}+\\hat{β_1}$$\n",
    "\n",
    "**Least squares regression**  \n",
    "Approach: Minimize the Mean Square Error (MSE) for the residuals\n",
    "$$\\hat{ε_i}=Y_i-(\\hat{β_0}+\\hat{β_1}X_i)$$\n",
    "\n",
    "Specifically, we minimize the Residual Sum of Squares (RSS)\n",
    "$$\\min_{\\hat{\\beta}_0, \\hat{\\beta}_1} \\sum_{i=1}^{n} (y_i - (\\hat{\\beta}_0 + \\hat{\\beta}_1 X_i))^2$$\n"
   ]
  }
 ],
 "metadata": {
  "kernelspec": {
   "display_name": "Python 3",
   "language": "python",
   "name": "python3"
  },
  "language_info": {
   "name": "python",
   "version": "3.10.11"
  },
  "orig_nbformat": 4
 },
 "nbformat": 4,
 "nbformat_minor": 2
}
