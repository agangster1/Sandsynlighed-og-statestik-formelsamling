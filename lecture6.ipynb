{
 "cells": [
  {
   "cell_type": "markdown",
   "source": [
    "Statistics 1 lecture:\n",
    "Overview of different expressions and signs\n",
    "Sample space: - Omega (Ω) is the set of possible outcomes of an experiment\n",
    "Outcomes: - are individual points Wired small w (�) ∈ Omega (Ω)\n",
    "Events: - are subsets of outcomes big A � ⊆ Omega (Ω)\n",
    "\n",
    "Example\n",
    "If we toss a coin twice, where the outcome of each toss is either H or T, then\n",
    "■ The possible outcomes are: ?\n",
    "■ The sample space is: ?\n",
    "■ The event that the first toss is heads is: ?"
   ],
   "metadata": {
    "collapsed": false
   }
  },
  {
   "cell_type": "markdown",
   "source": [
    "The formula for calculating the sample mean in statistics is:\n",
    "\n",
    "$$\\bar{X} = \\frac{1}{n} \\sum_{i=1}^{n} X_i$$\n",
    "\n",
    "where:\n",
    "- $\\bar{X}$ represents the sample mean,\n",
    "- $n$ is the number of observations in the sample, and\n",
    "- $X_i$ represents each individual observation in the sample."
   ],
   "metadata": {
    "collapsed": false
   }
  },
  {
   "cell_type": "code",
   "execution_count": 47,
   "outputs": [
    {
     "name": "stdout",
     "output_type": "stream",
     "text": [
      "3.6666666666666665\n",
      "22\n"
     ]
    }
   ],
   "source": [
    "x = [1, 2, 4, 4, 5, 6]  # X is the observed values\n",
    "n = 6  # Number of observations\n",
    "\n",
    "summen = 0\n",
    "one_divided_by_n = 1 / n\n",
    "\n",
    "# Summate the observed values in x\n",
    "for num in x:\n",
    "    summen += num\n",
    "\n",
    "# Calculate the mean by multiplying the two parts of the equation\n",
    "mean = one_divided_by_n * summen\n",
    "print(mean)"
   ],
   "metadata": {
    "collapsed": false,
    "ExecuteTime": {
     "end_time": "2023-06-02T13:17:39.449524800Z",
     "start_time": "2023-06-02T13:17:39.433869100Z"
    }
   }
  },
  {
   "cell_type": "markdown",
   "source": [
    "The formula for calculating the sample variance in statistics is as follows:\n",
    "$$s^2 = \\frac{1}{n-1} \\sum_{i=1}^{n} (x_i - \\bar{x})^2$$\n",
    "\n",
    "where:\n",
    "- $\\( s^2 \\)$   represents the sample variance,\n",
    "- $\\( n \\)$   is the number of observations in the sample,\n",
    "- $\\( x_i \\)$   represents each individual observation in the sample, and\n",
    "- $\\( \\bar{x} \\)$   represents the sample mean.\n",
    "\n",
    "Important\n",
    "The square root of the variance is the standard deviation\n",
    "Look at the denominator in the formula for the sample variance"
   ],
   "metadata": {
    "collapsed": false
   }
  },
  {
   "cell_type": "code",
   "execution_count": 42,
   "outputs": [
    {
     "name": "stdout",
     "output_type": "stream",
     "text": [
      "Sample variance: 3.4666666666666672\n"
     ]
    }
   ],
   "source": [
    "numbers = [1, 1, 4, 4, 5, 5]\n",
    "\n",
    "number_length = len(numbers)  # Number of observations in the sample\n",
    "\n",
    "mean_value = 0\n",
    "for n in numbers:\n",
    "    mean_value += n  # Calculate the sample mean manually\n",
    "mean_value = mean_value / number_length\n",
    "\n",
    "sum_squared_diff = 0\n",
    "for n in numbers:\n",
    "    sum_squared_diff += (n - mean_value) ** 2\n",
    "\n",
    "sample_variance = sum_squared_diff / (number_length - 1)\n",
    "\n",
    "print(\"Sample variance:\", sample_variance)\n"
   ],
   "metadata": {
    "collapsed": false,
    "ExecuteTime": {
     "end_time": "2023-06-02T13:14:10.751754800Z",
     "start_time": "2023-06-02T13:14:10.739753400Z"
    }
   }
  },
  {
   "cell_type": "markdown",
   "source": [
    "\n",
    "# The linearity of expectation and sample mean\n",
    "Expectation formula:\n",
    "$$E(X+Y)=E[X]+E[Y]$$\n",
    "\n",
    "$$E[aX+Y]=aE[X]+b$$\n",
    "\n",
    "# The formula for the sample mean:\n",
    "\n",
    "$$\\[ \\bar{Z} = \\frac{1}{n} \\sum_{i=1}^{n} (X_i + Y_i) \\]$$\n",
    "\n",
    "Where:\n",
    "- $\\( \\bar{Z} \\)$ represents the sample mean of the combined random variables $\\(Z_i = X_i + Y_i\\)$.\n",
    "- $\\( n \\)$ is the number of observations in the sample.\n",
    "- $\\( X_i \\)$ represents each individual observation of the random variable $\\(X\\)$ in the sample.\n",
    "- $\\( Y_i \\)$ represents each individual observation of the random variable $\\(Y\\)$ in the sample.\n",
    "\n",
    "\n",
    "\n",
    "# Law of large numbers\n",
    "\n",
    "$$\\[ \\bar{X}_{n} = \\frac{1}{n} \\sum_{i=1}^{n} X_i \\]$$\n",
    "\n",
    "Where:\n",
    "- $\\( \\bar{X} \\)$ represents the sample mean.\n",
    "- $\\( n \\)$ is the number of observations in the sample.\n",
    "- $\\( X_i \\)$ represents each individual observation in the sample.\n"
   ],
   "metadata": {
    "collapsed": false
   }
  },
  {
   "cell_type": "code",
   "execution_count": null,
   "outputs": [],
   "source": [],
   "metadata": {
    "collapsed": false
   }
  }
 ],
 "metadata": {
  "kernelspec": {
   "display_name": "Python 3",
   "language": "python",
   "name": "python3"
  },
  "language_info": {
   "codemirror_mode": {
    "name": "ipython",
    "version": 2
   },
   "file_extension": ".py",
   "mimetype": "text/x-python",
   "name": "python",
   "nbconvert_exporter": "python",
   "pygments_lexer": "ipython2",
   "version": "2.7.6"
  }
 },
 "nbformat": 4,
 "nbformat_minor": 0
}
