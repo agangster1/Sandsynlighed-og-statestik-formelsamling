{
 "cells": [
  {
   "cell_type": "markdown",
   "source": [
    "# Statistics 1 lecture:\n",
    "Overview of different expressions and signs\n",
    "Sample space: - Omega (Ω) is the set of possible outcomes of an experiment\n",
    "Outcomes: - are individual points Wired small w (�) ∈ Omega (Ω)\n",
    "Events: - are subsets of outcomes big A � ⊆ Omega (Ω)\n",
    "\n",
    "Example\n",
    "If we toss a coin twice, where the outcome of each toss is either H or T, then\n",
    "■ The possible outcomes are: ?\n",
    "■ The sample space is: ?\n",
    "■ The event that the first toss is heads is: ?"
   ],
   "metadata": {
    "collapsed": false
   }
  },
  {
   "cell_type": "markdown",
   "source": [
    "# The formula for calculating the sample mean in statistics is:\n",
    "(This not always equal to the median the middle of the sample but is always equal to the avarage)\n",
    "\n",
    "$$\\bar{X} = \\frac{1}{n} \\sum_{i=1}^{n} X_i$$\n",
    "\n",
    "where:\n",
    "- $\\bar{X}$ represents the sample mean,\n",
    "- $n$ is the number of observations in the sample, and\n",
    "- $X_i$ represents each individual observation in the sample."
   ],
   "metadata": {
    "collapsed": false
   }
  },
  {
   "cell_type": "code",
   "execution_count": 47,
   "outputs": [
    {
     "name": "stdout",
     "output_type": "stream",
     "text": [
      "3.6666666666666665\n",
      "22\n"
     ]
    }
   ],
   "source": [
    "x = [1, 2, 4, 4, 5, 6]  # X is the observed values\n",
    "n = 6  # Number of observations\n",
    "\n",
    "summen = 0\n",
    "one_divided_by_n = 1 / n\n",
    "\n",
    "# Summate the observed values in x\n",
    "for num in x:\n",
    "    summen += num\n",
    "\n",
    "# Calculate the mean by multiplying the two parts of the equation\n",
    "mean = one_divided_by_n * summen\n",
    "print(mean)"
   ],
   "metadata": {
    "collapsed": false,
    "ExecuteTime": {
     "end_time": "2023-06-02T13:17:39.449524800Z",
     "start_time": "2023-06-02T13:17:39.433869100Z"
    }
   }
  },
  {
   "cell_type": "markdown",
   "source": [
    "# The formula for calculating the sample variance in statistics is as follows:\n",
    "$$s^2 = \\frac{1}{n-1} \\sum_{i=1}^{n} (x_i - \\bar{x})^2$$\n",
    "\n",
    "where:\n",
    "- $\\( s^2 \\)$   represents the sample variance,\n",
    "- $\\( n \\)$   is the number of observations in the sample,\n",
    "- $\\( x_i \\)$   represents each individual observation in the sample, and\n",
    "- $\\( \\bar{x} \\)$   represents the sample mean.\n",
    "\n",
    "Important\n",
    "The square root of the variance is the standard deviation\n",
    "Look at the denominator in the formula for the sample variance"
   ],
   "metadata": {
    "collapsed": false
   }
  },
  {
   "cell_type": "code",
   "execution_count": 42,
   "outputs": [
    {
     "name": "stdout",
     "output_type": "stream",
     "text": [
      "Sample variance: 3.4666666666666672\n"
     ]
    }
   ],
   "source": [
    "numbers = [1, 1, 4, 4, 5, 5]\n",
    "\n",
    "number_length = len(numbers)  # Number of observations in the sample\n",
    "\n",
    "mean_value = 0\n",
    "for n in numbers:\n",
    "    mean_value += n  # Calculate the sample mean manually\n",
    "mean_value = mean_value / number_length\n",
    "\n",
    "sum_squared_diff = 0\n",
    "for n in numbers:\n",
    "    sum_squared_diff += (n - mean_value) ** 2\n",
    "\n",
    "sample_variance = sum_squared_diff / (number_length - 1)\n",
    "\n",
    "print(\"Sample variance:\", sample_variance)\n"
   ],
   "metadata": {
    "collapsed": false,
    "ExecuteTime": {
     "end_time": "2023-06-02T13:14:10.751754800Z",
     "start_time": "2023-06-02T13:14:10.739753400Z"
    }
   }
  },
  {
   "cell_type": "markdown",
   "source": [
    "\n",
    "# The linearity of expectation and sample mean\n",
    "Expectation formula:\n",
    "$$E(X+Y)=E[X]+E[Y]$$\n",
    "\n",
    "$$E[aX+Y]=aE[X]+b$$\n",
    "\n",
    "# The formula for the sample mean:\n",
    "\n",
    "$$\\[ \\bar{Z} = \\frac{1}{n} \\sum_{i=1}^{n} (X_i + Y_i) \\]$$\n",
    "\n",
    "Where:\n",
    "- $\\( \\bar{Z} \\)$ represents the sample mean of the combined random variables $\\(Z_i = X_i + Y_i\\)$.\n",
    "- $\\( n \\)$ is the number of observations in the sample.\n",
    "- $\\( X_i \\)$ represents each individual observation of the random variable $\\(X\\)$ in the sample.\n",
    "- $\\( Y_i \\)$ represents each individual observation of the random variable $\\(Y\\)$ in the sample.\n",
    "\n",
    "\n",
    "\n",
    "# Law of large numbers\n",
    "\n",
    "(X can also be referred to as the sample mean of a given set of numbers)\n",
    "\n",
    "$$\\[ \\bar{X}_{n} = \\frac{1}{n} \\sum_{i=1}^{n} X_i \\]$$\n",
    "\n",
    "Where:\n",
    "- $\\( \\bar{X} \\)$ represents the sample mean.\n",
    "- $\\( n \\)$ is the number of observations in the sample.\n",
    "- $\\( X_i \\)$ represents each individual observation in the sample.\n"
   ],
   "metadata": {
    "collapsed": false
   }
  },
  {
   "cell_type": "code",
   "execution_count": 53,
   "outputs": [
    {
     "name": "stdout",
     "output_type": "stream",
     "text": [
      "Sample Mean: 11.0\n"
     ]
    }
   ],
   "source": [
    "# Sample observations of X and Y\n",
    "x_values = [1, 2, 3, 4, 5]\n",
    "Y_values = [6, 7, 8, 9, 10]\n",
    "\n",
    "# Number of observations in the sample\n",
    "n = len(x_values)\n",
    "sample_mean = 0;\n",
    "\n",
    "# Calculate the sample mean\n",
    "for xi, yi in zip(x_values, Y_values):\n",
    "    sample_mean += xi + yi\n",
    "\n",
    "sample_mean = sample_mean/n\n",
    "\n",
    "# Print the sample mean\n",
    "print(\"Sample Mean:\", sample_mean)\n"
   ],
   "metadata": {
    "collapsed": false,
    "ExecuteTime": {
     "end_time": "2023-06-03T11:05:46.718285400Z",
     "start_time": "2023-06-03T11:05:46.687013400Z"
    }
   }
  },
  {
   "cell_type": "markdown",
   "source": [
    "# Gaussian distribution\n",
    "(Also called normal distribution)\n",
    "\n",
    "The Gaussian distribution\n",
    "Also called normal distribution\n",
    "\n",
    "The probability density function (PDF) of the Gaussian distribution is defined as:\n",
    "\n",
    "# $f(x) = \\frac{1}{σ\\sqrt{2π}} {e}^{\\frac{-{(x - μ)}^{2}}{(2σ^2)}$\n",
    "\n",
    "Where:\n",
    "- μ (mu) represents the mean, located at the center of the distribution.\n",
    "- σ (sigma) represents the variance, which tells us how wide the distribution is.\n",
    "- The compact representation of a random variable X following a Gaussian distribution is X ~ N(μ, ${σ}^{2}$).\n",
    "\n",
    "# Standard normal distribution\n",
    "\n",
    "# $\\phi(x) = \\frac{1}{\\sqrt{2\\pi}} \\cdot e^{-\\frac{x^2}{2}}$\n",
    "\n",
    "Mean: $\\mu$ - This is the average\n",
    "Standard Deviation: $\\sigma$\n",
    "\n",
    "# PDF - Product mass function of normal distribution based on mean and standard deviation"
   ],
   "metadata": {
    "collapsed": false
   }
  },
  {
   "cell_type": "code",
   "execution_count": 57,
   "outputs": [
    {
     "name": "stdout",
     "output_type": "stream",
     "text": [
      "['__class__', '__delattr__', '__dict__', '__dir__', '__doc__', '__eq__', '__format__', '__ge__', '__getattribute__', '__gt__', '__hash__', '__init__', '__init_subclass__', '__le__', '__lt__', '__module__', '__ne__', '__new__', '__reduce__', '__reduce_ex__', '__repr__', '__setattr__', '__sizeof__', '__str__', '__subclasshook__', '__weakref__', 'a', 'args', 'b', 'cdf', 'dist', 'entropy', 'expect', 'interval', 'isf', 'kwds', 'logcdf', 'logpdf', 'logsf', 'mean', 'median', 'moment', 'pdf', 'ppf', 'random_state', 'rvs', 'sf', 'stats', 'std', 'support', 'var']\n",
      "The first graph is the normal distribution of one random variables\n"
     ]
    },
    {
     "data": {
      "text/plain": "<Figure size 640x480 with 1 Axes>",
      "image/png": "[encoded data removed]"
     },
     "metadata": {},
     "output_type": "display_data"
    },
    {
     "name": "stdout",
     "output_type": "stream",
     "text": [
      "The second graph is the normal distribution of the two random variables combined\n"
     ]
    },
    {
     "data": {
      "text/plain": "<Figure size 640x480 with 0 Axes>"
     },
     "metadata": {},
     "output_type": "display_data"
    },
    {
     "data": {
      "text/plain": "<Figure size 640x480 with 1 Axes>",
      "image/png": "[encoded data removed]"
     },
     "metadata": {},
     "output_type": "display_data"
    }
   ],
   "source": [
    "import scipy as scp\n",
    "import numpy as np\n",
    "import matplotlib.pyplot as plt\n",
    "\n",
    "# This is the mean and standard deviation of the first random variable\n",
    "X1 = scp.stats.norm(0, 10)  # Create object of a 'frozen' normal RV with mean = 0 and std = 1\n",
    "\n",
    "print(dir(X1))\n",
    "\n",
    "# This defines the picture scaling of the graph\n",
    "x = np.linspace(-20, 40, 1000)\n",
    "pdf = X1.pdf(x)\n",
    "\n",
    "print(\"The first graph is the normal distribution of one random variables\")\n",
    "# This plots the first random variable x1 as a normal distribution based on X1´s values\n",
    "plt.figure()\n",
    "plt.plot(x,pdf)\n",
    "plt.show()\n",
    "plt.clf()\n",
    "\n",
    "# This is the mean and standard deviation of the second random variable\n",
    "X2 = scp.stats.norm(2,0.5) # Create a second object of a normal RV with mean = 1 and std = 0.5\n",
    "a = 1\n",
    "b = 5\n",
    "\n",
    "# This is the combination of the two defined random variables x1 and x2 which is plotted below\n",
    "W = scp.stats.norm(a*X1.mean()+b*X2.mean(),a*X1.std()+b*X2.std())\n",
    "\n",
    "print(\"The second graph is the normal distribution of the two random variables combined\")\n",
    "pdfW = W.pdf(x)\n",
    "plt.figure()\n",
    "plt.plot(x,pdfW)\n",
    "plt.show()"
   ],
   "metadata": {
    "collapsed": false,
    "ExecuteTime": {
     "end_time": "2023-06-03T11:56:21.601176600Z",
     "start_time": "2023-06-03T11:56:21.138464600Z"
    }
   }
  },
  {
   "cell_type": "markdown",
   "source": [],
   "metadata": {
    "collapsed": false
   }
  },
  {
   "cell_type": "markdown",
   "source": [],
   "metadata": {
    "collapsed": false
   }
  }
 ],
 "metadata": {
  "kernelspec": {
   "display_name": "Python 3",
   "language": "python",
   "name": "python3"
  },
  "language_info": {
   "codemirror_mode": {
    "name": "ipython",
    "version": 2
   },
   "file_extension": ".py",
   "mimetype": "text/x-python",
   "name": "python",
   "nbconvert_exporter": "python",
   "pygments_lexer": "ipython2",
   "version": "2.7.6"
  }
 },
 "nbformat": 4,
 "nbformat_minor": 0
}
