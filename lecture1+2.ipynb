{
 "cells": [
  {
   "attachments": {},
   "cell_type": "markdown",
   "metadata": {},
   "source": [
    "when all events are equally likely to happen:\n",
    "$$P(A)=\\frac{|A|}{|S|}$$\n",
    "\n"
   ]
  },
  {
   "cell_type": "code",
   "execution_count": 2,
   "metadata": {},
   "outputs": [
    {
     "name": "stdout",
     "output_type": "stream",
     "text": [
      "0.3333333333333333\n"
     ]
    }
   ],
   "source": [
    "A = [1,2] # success events\n",
    "S = [1,2,3,4,5,6] # Sample space\n",
    "propA = len(A)/len(S)\n",
    "print(propA)\n"
   ]
  },
  {
   "attachments": {},
   "cell_type": "markdown",
   "metadata": {},
   "source": [
    "For any event E, the probability P(E) is non-negative:\n",
    "$$ P(E) \\geq 0 $$\n",
    "\n",
    "For any two disjoint events E and F, the probability of their union is the sum of their individual probabilities:\n",
    "$$ P(E \\cup F) = P(E) + P(F) $$\n"
   ]
  },
  {
   "attachments": {},
   "cell_type": "markdown",
   "metadata": {},
   "source": [
    "Sampling with replacement without ordering:\n",
    "$$Possibilities = n^k$$"
   ]
  },
  {
   "cell_type": "code",
   "execution_count": null,
   "metadata": {},
   "outputs": [],
   "source": [
    "# we want to draw k samples from n values\n",
    "n= 2 \n",
    "k = 6 \n",
    "Possibilities = n ** k\n",
    "print(Possibilities)"
   ]
  },
  {
   "attachments": {},
   "cell_type": "markdown",
   "metadata": {},
   "source": [
    "Sampling without Replacement and with Ordering: \n",
    "$$Possibilities = \\frac{n!}{(n - k)!}$$"
   ]
  },
  {
   "cell_type": "code",
   "execution_count": 1,
   "metadata": {},
   "outputs": [
    {
     "ename": "ValueError",
     "evalue": "factorial() not defined for negative values",
     "output_type": "error",
     "traceback": [
      "\u001b[1;31m---------------------------------------------------------------------------\u001b[0m",
      "\u001b[1;31mValueError\u001b[0m                                Traceback (most recent call last)",
      "Cell \u001b[1;32mIn[1], line 5\u001b[0m\n\u001b[0;32m      3\u001b[0m n\u001b[39m=\u001b[39m \u001b[39m2\u001b[39m \n\u001b[0;32m      4\u001b[0m k \u001b[39m=\u001b[39m \u001b[39m6\u001b[39m \n\u001b[1;32m----> 5\u001b[0m Possibilities \u001b[39m=\u001b[39m math\u001b[39m.\u001b[39mfactorial(n) \u001b[39m/\u001b[39m math\u001b[39m.\u001b[39;49mfactorial(n \u001b[39m-\u001b[39;49m k)\n\u001b[0;32m      6\u001b[0m \u001b[39mprint\u001b[39m(Possibilities)\n",
      "\u001b[1;31mValueError\u001b[0m: factorial() not defined for negative values"
     ]
    }
   ],
   "source": [
    "import math\n",
    "# we want to draw k samples from n values\n",
    "n= 2 \n",
    "k = 6 \n",
    "Possibilities = math.factorial(n) / math.factorial(abs(n - k))\n",
    "print(Possibilities)"
   ]
  },
  {
   "attachments": {},
   "cell_type": "markdown",
   "metadata": {},
   "source": [
    "Sampling without Replacement and without Ordering:\n",
    "$$Possibilities = {n \\choose k} = \\frac{n!}{(n-k)!*k!}$$"
   ]
  },
  {
   "cell_type": "code",
   "execution_count": null,
   "metadata": {},
   "outputs": [],
   "source": [
    "import math\n",
    "# we want to draw k samples from n values\n",
    "n= 2 \n",
    "k = 6 \n",
    "Possibilities = math.factorial(n) / math.factorial(k) * (math.factorial(n - k))\n",
    "print(Possibilities)"
   ]
  },
  {
   "attachments": {},
   "cell_type": "markdown",
   "metadata": {},
   "source": [
    "Sampling with replacement and without ordering:\n",
    "$$Possibilities = \\frac{(n + k - 1)!}{k! * (n - 1)!}$$\n"
   ]
  },
  {
   "cell_type": "code",
   "execution_count": null,
   "metadata": {},
   "outputs": [],
   "source": [
    "import math\n",
    "# we want to draw k samples from n values\n",
    "n= 2 \n",
    "k = 6 \n",
    "Possibilities = math.factorial(n + k - 1) / (math.factorial(k) * (math.factorial(n - 1)))\n",
    "print(Possibilities)"
   ]
  }
 ],
 "metadata": {
  "kernelspec": {
   "display_name": "Python 3",
   "language": "python",
   "name": "python3"
  },
  "language_info": {
   "codemirror_mode": {
    "name": "ipython",
    "version": 3
   },
   "file_extension": ".py",
   "mimetype": "text/x-python",
   "name": "python",
   "nbconvert_exporter": "python",
   "pygments_lexer": "ipython3",
   "version": "3.11.0"
  },
  "orig_nbformat": 4
 },
 "nbformat": 4,
 "nbformat_minor": 2
}
